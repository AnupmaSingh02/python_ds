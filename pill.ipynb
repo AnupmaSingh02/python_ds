{
 "cells": [
  {
   "cell_type": "code",
   "execution_count": 1,
   "metadata": {},
   "outputs": [],
   "source": [
    "from PIL import Image\n",
    "# location of the image\n",
    "img = Image.open(r\"C:\\Users\\as350\\Pictures\\Wallpaper\\Ghosts.jpg\")\n",
    "img.show()"
   ]
  },
  {
   "cell_type": "code",
   "execution_count": 2,
   "metadata": {},
   "outputs": [
    {
     "name": "stdout",
     "output_type": "stream",
     "text": [
      "(4000, 2250)\n"
     ]
    }
   ],
   "source": [
    "# size of the image\n",
    "print(img.size)\n"
   ]
  },
  {
   "cell_type": "code",
   "execution_count": 3,
   "metadata": {},
   "outputs": [
    {
     "name": "stdout",
     "output_type": "stream",
     "text": [
      "4000*2250\n"
     ]
    }
   ],
   "source": [
    "# resolution\n",
    "wid,hgt=img.size   # fetching the dimensions\n",
    "print(str(wid)+'*'+str(hgt))"
   ]
  },
  {
   "cell_type": "code",
   "execution_count": 4,
   "metadata": {},
   "outputs": [
    {
     "name": "stdout",
     "output_type": "stream",
     "text": [
      "The width of the image is:4000\n",
      "The height of the image is:2250\n"
     ]
    }
   ],
   "source": [
    "width = img.width\n",
    "height = img.height\n",
    "print('The width of the image is:'+str(width))\n",
    "print('The height of the image is:'+str(height))"
   ]
  },
  {
   "cell_type": "code",
   "execution_count": 5,
   "metadata": {},
   "outputs": [
    {
     "name": "stdout",
     "output_type": "stream",
     "text": [
      "JPEG\n"
     ]
    }
   ],
   "source": [
    "#format of the images\n",
    "print(img.format)"
   ]
  },
  {
   "cell_type": "code",
   "execution_count": 6,
   "metadata": {},
   "outputs": [
    {
     "name": "stdout",
     "output_type": "stream",
     "text": [
      "RGB\n"
     ]
    }
   ],
   "source": [
    "# color mode of the image\n",
    "print(img.mode)"
   ]
  },
  {
   "cell_type": "code",
   "execution_count": 7,
   "metadata": {},
   "outputs": [],
   "source": [
    "# rotate the image\n",
    "imgae_rotate = img.rotate(90)\n",
    "imgae_rotate.show()"
   ]
  },
  {
   "cell_type": "code",
   "execution_count": 8,
   "metadata": {},
   "outputs": [],
   "source": [
    "# flipping the image\n",
    "img_flip=img.transpose(Image.FLIP_LEFT_RIGHT)\n",
    "img_flip.show()"
   ]
  },
  {
   "cell_type": "code",
   "execution_count": 9,
   "metadata": {},
   "outputs": [],
   "source": [
    "img_flip=img.transpose(Image.FLIP_TOP_BOTTOM)\n",
    "img_flip.show()"
   ]
  },
  {
   "cell_type": "code",
   "execution_count": 10,
   "metadata": {},
   "outputs": [
    {
     "data": {
      "text/plain": [
       "\"r,g,b = Image.split()\\nim1= Image.merge('RGB',(g,b,r)) \\nim1.show()\""
      ]
     },
     "execution_count": 10,
     "metadata": {},
     "output_type": "execute_result"
    }
   ],
   "source": [
    "# resizing the image\n",
    "img_resize = img.resize((1400,1400))\n",
    "\n",
    "'''r,g,b = Image.split()\n",
    "im1= Image.merge('RGB',(g,b,r)) \n",
    "im1.show()'''"
   ]
  },
  {
   "cell_type": "code",
   "execution_count": 11,
   "metadata": {},
   "outputs": [
    {
     "name": "stdout",
     "output_type": "stream",
     "text": [
      "img 1 size:  (360, 360)\n",
      "img 2 size:  (261, 280)\n",
      "img 3 size:  (612, 612)\n",
      "img 4 size:  (937, 1000)\n"
     ]
    }
   ],
   "source": [
    "img_1 = Image.open(\"one.jpg\")\n",
    "img_2 = Image.open(\"two.webp\")\n",
    "img_3 = Image.open(\"three.jpg\")\n",
    "img_4 = Image.open(\"four.jpg\")\n",
    "\n",
    "\n",
    "\n",
    "img_1_size = img_1.size\n",
    "img_2_size = img_2.size\n",
    "img_3_size = img_3.size\n",
    "img_4_size = img_4.size\n",
    "\n",
    "print('img 1 size: ',img_1_size)\n",
    "print('img 2 size: ',img_2_size)\n",
    "print('img 3 size: ',img_3_size)\n",
    "print('img 4 size: ',img_4_size)\n",
    "\n",
    "new_im = Image.new('RGB',(2*img_1_size[0],2*img_1_size[1]),(612,1000,250))\n",
    "new_im.paste(img_1,(0,0))\n",
    "new_im.paste(img_2,(img_1_size[0],0))\n",
    "new_im.paste(img_3,(0,img_1_size[1]))\n",
    "new_im.paste(img_4,(img_1_size[0],img_1_size[1]))\n",
    "\n",
    "new_im.show()\n"
   ]
  },
  {
   "cell_type": "code",
   "execution_count": 12,
   "metadata": {},
   "outputs": [],
   "source": [
    "img = Image.open(r\"C:\\Users\\as350\\Pictures\\Wallpaper\\Ghosts.jpg\")\n",
    "left = 5\n",
    "top = height/4\n",
    "right = 164\n",
    "bottom = 3*height/4\n",
    "im1 = img.crop((left,top,right,bottom))\n",
    "im1.show()"
   ]
  },
  {
   "cell_type": "code",
   "execution_count": 15,
   "metadata": {},
   "outputs": [],
   "source": [
    "# blurring the image\n",
    "from PIL import Image, ImageFilter\n",
    "# open the image\n",
    "im = Image.open(r\"C:\\Users\\as350\\Pictures\\Wallpaper\\Night Wing 01.jpg\")\n",
    "# applying the blur filter\n",
    "im_blur = im.filter(ImageFilter.BLUR)\n",
    "im_blur.show()"
   ]
  },
  {
   "cell_type": "code",
   "execution_count": 17,
   "metadata": {},
   "outputs": [],
   "source": [
    "# blurring the image\n",
    "from PIL import Image, ImageFilter\n",
    "# open the image\n",
    "im = Image.open(r\"C:\\Users\\as350\\Pictures\\Wallpaper\\Night Wing 01.jpg\")\n",
    "# applying the blur filter\n",
    "im_blur = im.filter(ImageFilter.GaussianBlur(10))\n",
    "im_blur.show()"
   ]
  },
  {
   "cell_type": "code",
   "execution_count": null,
   "metadata": {},
   "outputs": [],
   "source": []
  }
 ],
 "metadata": {
  "kernelspec": {
   "display_name": "base",
   "language": "python",
   "name": "python3"
  },
  "language_info": {
   "codemirror_mode": {
    "name": "ipython",
    "version": 3
   },
   "file_extension": ".py",
   "mimetype": "text/x-python",
   "name": "python",
   "nbconvert_exporter": "python",
   "pygments_lexer": "ipython3",
   "version": "3.10.9"
  },
  "orig_nbformat": 4
 },
 "nbformat": 4,
 "nbformat_minor": 2
}
