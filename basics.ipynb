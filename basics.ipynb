{
 "cells": [
  {
   "cell_type": "code",
   "execution_count": 3,
   "metadata": {},
   "outputs": [
    {
     "name": "stdout",
     "output_type": "stream",
     "text": [
      "2\n"
     ]
    }
   ],
   "source": [
    "a=2\n",
    "print(a)"
   ]
  },
  {
   "cell_type": "code",
   "execution_count": 14,
   "metadata": {},
   "outputs": [
    {
     "name": "stdout",
     "output_type": "stream",
     "text": [
      "Soumya\n",
      "Anupma\n",
      "['Soumya', 'Yush']\n",
      "['Yush', 'Rahul']\n"
     ]
    }
   ],
   "source": [
    "name = [\"Anupma\" , \"Tabssum\" , \"Soumya\" , \"Yush\" , \"Rahul\" , \"Annu\"]\n",
    "#INDEXING\n",
    "print(name[2])\n",
    "print(name[0])\n",
    "\n",
    "#Slicing\n",
    "print(name[2:4])\n",
    "print(name[3:5])\n"
   ]
  },
  {
   "cell_type": "code",
   "execution_count": 8,
   "metadata": {},
   "outputs": [
    {
     "name": "stdout",
     "output_type": "stream",
     "text": [
      "total aaps: 21\n"
     ]
    }
   ],
   "source": [
    "mobile_apps = [\"Gmail\" , \"Photos\" , \"Youtube\" , \"WhatsApp\" , \"Music\" ,\"Google\" , \"Meet\" , \"Netflix\" , \n",
    "               \"Lightroom\" , \"JioSaavn\" , \"Google pay\" , \"Phone pay\" , \"Spotify\" , \"Amazon Prime\" , \n",
    "               \"Instagram\" , \"Telegram\" , \"Twitter\" , \"LinkedIn\" , \"Ganna\" , \"Phone\" , \"Massage\"] \n",
    "print(f'total aaps: {len(mobile_apps)}')"
   ]
  },
  {
   "cell_type": "code",
   "execution_count": 7,
   "metadata": {},
   "outputs": [
    {
     "name": "stdout",
     "output_type": "stream",
     "text": [
      "total salary : 52000.0\n"
     ]
    }
   ],
   "source": [
    "\n",
    "designation = input(\"Enter your Designation\")\n",
    "match designation:\n",
    "    case 'manager':\n",
    "        bs = 50000\n",
    "        bns = bs * .1 # 10 %\n",
    "        hra = bs * .2 # 20 %\n",
    "        ts = bs + bns + hra\n",
    "        print(f'total salary : {ts}')\n",
    "    case 'developer':\n",
    "        bs = 40000\n",
    "        bns = bs * .1 # 10 %\n",
    "        hra = bs * .2 # 20 %\n",
    "        ts = bs + bns + hra\n",
    "        print(f'total salary : {ts}')\n",
    "    case 'tester':\n",
    "        bs = 30000\n",
    "        bns = bs * .1 # 10 %\n",
    "        hra = bs * .2 # 20 %\n",
    "        ts = bs + bns + hra\n",
    "        print(f'total salary : {ts}')\n",
    "    case _:\n",
    "        print(\"You are Fired\")\n",
    "        \n",
    "\n",
    "            \n",
    "            "
   ]
  },
  {
   "cell_type": "code",
   "execution_count": 8,
   "metadata": {},
   "outputs": [
    {
     "name": "stdout",
     "output_type": "stream",
     "text": [
      "Yeah, you should be fine\n"
     ]
    }
   ],
   "source": [
    "CPUmodel = input(\"Enter your CPU model\")\n",
    "match CPUmodel:\n",
    "    case 'celeron':\n",
    "        print(\"forgot about it and play Minesweeper instead....\")\n",
    "    case 'core i3':\n",
    "        print(\"Good luck with that\")\n",
    "    case 'core i5':\n",
    "        print(\"Yeah, you should be fine\")\n",
    "    case 'core i7':\n",
    "        print(\"have Fun\")\n",
    "    case 'core i9':\n",
    "        print(\"Our team Designed nice loading Screens...too bad you want see them...\")\n",
    "    case _:\n",
    "        print(\"is that even a thing\")        \n",
    "    \n"
   ]
  },
  {
   "cell_type": "code",
   "execution_count": 10,
   "metadata": {},
   "outputs": [
    {
     "name": "stdout",
     "output_type": "stream",
     "text": [
      "Enjoy your food\n"
     ]
    }
   ],
   "source": [
    "menu = [\"Veg roll\" , \"Paneer roll\" , \"Momos\" , \"pizza\" , \"Burger\" , \"Sandwich\" , \" Aloo Wrap\" , \"Paneer Wrap\" ,\n",
    "         \"Garlic Bread\" , \"ice cream\" , \"gulaab jammun\"]\n",
    "user = input(\"enter your food from menu\")\n",
    "if \"menu\":\n",
    "    print(\"Enjoy your food\")\n",
    "else:\n",
    "    print(\"Sorry\")    \n"
   ]
  },
  {
   "cell_type": "code",
   "execution_count": null,
   "metadata": {},
   "outputs": [],
   "source": []
  }
 ],
 "metadata": {
  "kernelspec": {
   "display_name": "base",
   "language": "python",
   "name": "python3"
  },
  "language_info": {
   "codemirror_mode": {
    "name": "ipython",
    "version": 3
   },
   "file_extension": ".py",
   "mimetype": "text/x-python",
   "name": "python",
   "nbconvert_exporter": "python",
   "pygments_lexer": "ipython3",
   "version": "3.10.9"
  },
  "orig_nbformat": 4
 },
 "nbformat": 4,
 "nbformat_minor": 2
}
