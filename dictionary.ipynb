{
 "cells": [
  {
   "cell_type": "code",
   "execution_count": 1,
   "metadata": {},
   "outputs": [
    {
     "name": "stdout",
     "output_type": "stream",
     "text": [
      "{'name': 'john', 'age': 25, 'course': ['Math', 'Compsci'], 'phone': -55000, 'address': '123 Main St', 'city': 'New York'}\n"
     ]
    }
   ],
   "source": [
    "student = {'name':'john',\n",
    "           'age':25,\n",
    "           'course':[\"Math\" , \"Compsci\"],\n",
    "           'phone':555-55555,\n",
    "           'address':'123 Main St',\n",
    "           'city':'New York'}\n",
    "print(student)\n"
   ]
  },
  {
   "attachments": {},
   "cell_type": "markdown",
   "metadata": {},
   "source": [
    "fisrt method to access dictionary value:"
   ]
  },
  {
   "cell_type": "code",
   "execution_count": 3,
   "metadata": {},
   "outputs": [
    {
     "name": "stdout",
     "output_type": "stream",
     "text": [
      "john\n",
      "['Math', 'Compsci']\n"
     ]
    }
   ],
   "source": [
    "print(student['name'])\n",
    "print(student['course'])"
   ]
  },
  {
   "attachments": {},
   "cell_type": "markdown",
   "metadata": {},
   "source": [
    ".get() func: second method to access the dictionary value"
   ]
  },
  {
   "cell_type": "code",
   "execution_count": 5,
   "metadata": {},
   "outputs": [
    {
     "name": "stdout",
     "output_type": "stream",
     "text": [
      "john\n",
      "['Math', 'Compsci']\n"
     ]
    }
   ],
   "source": [
    "print(student.get('name'))\n",
    "print(student.get('course'))"
   ]
  },
  {
   "cell_type": "code",
   "execution_count": 10,
   "metadata": {},
   "outputs": [
    {
     "name": "stdout",
     "output_type": "stream",
     "text": [
      "{'name': 'john', 'age': 25, 'course': ['Math', 'Compsci'], 'phone': -55000, 'address': '123 Main St', 'city': 'New York', 'school': 'MIT', 'DOB': '02 - january - 2002', \"Father's name\": 'Albert'}\n"
     ]
    }
   ],
   "source": [
    "# to add a new key:value pair.\n",
    "student['school'] = 'MIT'\n",
    "student['DOB'] = '02 - january - 2002'\n",
    "student[\"Father's name\"] = 'Albert'\n",
    "print(student)\n"
   ]
  },
  {
   "cell_type": "code",
   "execution_count": 11,
   "metadata": {},
   "outputs": [
    {
     "name": "stdout",
     "output_type": "stream",
     "text": [
      "{'name': 'Radha Krishna', 'male lead': 'Sumedh Mudgalkar', 'female lead': 'Malika Singh', 'total season': 2, 'rating': 4.5, 'ott': 'hotstar'}\n"
     ]
    }
   ],
   "source": [
    "show = {'name':'Radha Krishna',\n",
    "        'male lead':'Sumedh Mudgalkar',\n",
    "        'female lead':'Malika Singh',\n",
    "        'total season': 2,\n",
    "        'rating':4.5,\n",
    "        'ott':'hotstar'}\n",
    "print(show)"
   ]
  },
  {
   "cell_type": "code",
   "execution_count": 20,
   "metadata": {},
   "outputs": [
    {
     "name": "stdout",
     "output_type": "stream",
     "text": [
      "name\n",
      "male lead\n",
      "female lead\n",
      "total season\n",
      "rating\n",
      "ott\n"
     ]
    }
   ],
   "source": [
    "# to print key using loop\n",
    "for key in show.keys():\n",
    "    print(key)"
   ]
  },
  {
   "cell_type": "code",
   "execution_count": 18,
   "metadata": {},
   "outputs": [
    {
     "name": "stdout",
     "output_type": "stream",
     "text": [
      "name Radha Krishna\n",
      "male lead Sumedh Mudgalkar\n",
      "female lead Malika Singh\n",
      "total season 2\n",
      "rating 4.5\n",
      "ott hotstar\n"
     ]
    }
   ],
   "source": [
    "# to print key and value both using loop.\n",
    "for k,v in show.items():\n",
    "    print(k,v)"
   ]
  },
  {
   "cell_type": "code",
   "execution_count": 21,
   "metadata": {},
   "outputs": [
    {
     "name": "stdout",
     "output_type": "stream",
     "text": [
      "Radha Krishna\n",
      "Sumedh Mudgalkar\n",
      "Malika Singh\n",
      "2\n",
      "4.5\n",
      "hotstar\n"
     ]
    }
   ],
   "source": [
    "# to print value using loop:\n",
    "for v in show.values():\n",
    "    print(v)"
   ]
  },
  {
   "cell_type": "code",
   "execution_count": 23,
   "metadata": {},
   "outputs": [
    {
     "name": "stdout",
     "output_type": "stream",
     "text": [
      "dict_keys(['name', 'male lead', 'female lead', 'total season', 'rating', 'ott'])\n",
      "dict_values(['Radha Krishna', 'Sumedh Mudgalkar', 'Malika Singh', 2, 4.5, 'hotstar'])\n",
      "dict_items([('name', 'Radha Krishna'), ('male lead', 'Sumedh Mudgalkar'), ('female lead', 'Malika Singh'), ('total season', 2), ('rating', 4.5), ('ott', 'hotstar')])\n"
     ]
    }
   ],
   "source": [
    "print(show.keys())\n",
    "print(show.values())\n",
    "print(show.items())"
   ]
  },
  {
   "cell_type": "code",
   "execution_count": null,
   "metadata": {},
   "outputs": [],
   "source": []
  }
 ],
 "metadata": {
  "kernelspec": {
   "display_name": "base",
   "language": "python",
   "name": "python3"
  },
  "language_info": {
   "codemirror_mode": {
    "name": "ipython",
    "version": 3
   },
   "file_extension": ".py",
   "mimetype": "text/x-python",
   "name": "python",
   "nbconvert_exporter": "python",
   "pygments_lexer": "ipython3",
   "version": "3.10.9"
  },
  "orig_nbformat": 4
 },
 "nbformat": 4,
 "nbformat_minor": 2
}
