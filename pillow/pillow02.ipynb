{
 "cells": [
  {
   "cell_type": "code",
   "execution_count": 3,
   "metadata": {},
   "outputs": [],
   "source": [
    "from PIL import Image, ImageEnhance\n",
    "img = Image.open(\"annu.jpg\")\n",
    "img.show()"
   ]
  },
  {
   "attachments": {},
   "cell_type": "markdown",
   "metadata": {},
   "source": [
    "Filters and Enhancement:"
   ]
  },
  {
   "attachments": {},
   "cell_type": "markdown",
   "metadata": {},
   "source": [
    "Pillow can change vibrance, contrast, brightness and sharpness using ImageEnhance"
   ]
  },
  {
   "cell_type": "code",
   "execution_count": 10,
   "metadata": {},
   "outputs": [],
   "source": [
    "# create an Enhancer\n",
    "color_enhancer = ImageEnhance.Color(img) #vibrance\n",
    "contrast_enhancer = ImageEnhance.Contrast(img) # contrast\n",
    "brightness_enhancer = ImageEnhance.Brightness(img) # brightness\n",
    "shrapness_enhancer = ImageEnhance.Sharpness(img) # Sharpness\n",
    "\n",
    "enhanced_image = shrapness_enhancer.enhance(10)\n",
    "enhanced_image.show()\n"
   ]
  },
  {
   "cell_type": "code",
   "execution_count": null,
   "metadata": {},
   "outputs": [],
   "source": []
  }
 ],
 "metadata": {
  "kernelspec": {
   "display_name": "base",
   "language": "python",
   "name": "python3"
  },
  "language_info": {
   "codemirror_mode": {
    "name": "ipython",
    "version": 3
   },
   "file_extension": ".py",
   "mimetype": "text/x-python",
   "name": "python",
   "nbconvert_exporter": "python",
   "pygments_lexer": "ipython3",
   "version": "3.10.9"
  },
  "orig_nbformat": 4
 },
 "nbformat": 4,
 "nbformat_minor": 2
}
