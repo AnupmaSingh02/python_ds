{
 "cells": [
  {
   "cell_type": "code",
   "execution_count": 3,
   "metadata": {},
   "outputs": [
    {
     "data": {
      "text/html": [
       "<div>\n",
       "<style scoped>\n",
       "    .dataframe tbody tr th:only-of-type {\n",
       "        vertical-align: middle;\n",
       "    }\n",
       "\n",
       "    .dataframe tbody tr th {\n",
       "        vertical-align: top;\n",
       "    }\n",
       "\n",
       "    .dataframe thead th {\n",
       "        text-align: right;\n",
       "    }\n",
       "</style>\n",
       "<table border=\"1\" class=\"dataframe\">\n",
       "  <thead>\n",
       "    <tr style=\"text-align: right;\">\n",
       "      <th></th>\n",
       "      <th>Title</th>\n",
       "      <th>Author</th>\n",
       "      <th>Language Level</th>\n",
       "    </tr>\n",
       "  </thead>\n",
       "  <tbody>\n",
       "    <tr>\n",
       "      <th>0</th>\n",
       "      <td>Hop on Pop</td>\n",
       "      <td>Dr. Seuss</td>\n",
       "      <td>level_6a</td>\n",
       "    </tr>\n",
       "    <tr>\n",
       "      <th>1</th>\n",
       "      <td>Jesse Bear,What Will You Wear?</td>\n",
       "      <td>Nancy White Carlstrom</td>\n",
       "      <td>level_6a</td>\n",
       "    </tr>\n",
       "    <tr>\n",
       "      <th>2</th>\n",
       "      <td>Eating the Alphabet: Fruits and Vegetables fro...</td>\n",
       "      <td>Lois Ehlert</td>\n",
       "      <td>level_6a</td>\n",
       "    </tr>\n",
       "    <tr>\n",
       "      <th>3</th>\n",
       "      <td>Black? White! Day? Night!</td>\n",
       "      <td>Laura Vaccaro Seeger</td>\n",
       "      <td>level_6a</td>\n",
       "    </tr>\n",
       "    <tr>\n",
       "      <th>4</th>\n",
       "      <td>Big Red Barn</td>\n",
       "      <td>Margaret Wise Brown</td>\n",
       "      <td>level_6a</td>\n",
       "    </tr>\n",
       "    <tr>\n",
       "      <th>...</th>\n",
       "      <td>...</td>\n",
       "      <td>...</td>\n",
       "      <td>...</td>\n",
       "    </tr>\n",
       "    <tr>\n",
       "      <th>231</th>\n",
       "      <td>The Waste Land and Other Poems</td>\n",
       "      <td>T.S. Eliot</td>\n",
       "      <td>level_L</td>\n",
       "    </tr>\n",
       "    <tr>\n",
       "      <th>232</th>\n",
       "      <td>Macbeth</td>\n",
       "      <td>William Shakespeare</td>\n",
       "      <td>level_L</td>\n",
       "    </tr>\n",
       "    <tr>\n",
       "      <th>233</th>\n",
       "      <td>Uncle Tom's Cabin</td>\n",
       "      <td>Harriet Beecher Stowe</td>\n",
       "      <td>level_L</td>\n",
       "    </tr>\n",
       "    <tr>\n",
       "      <th>234</th>\n",
       "      <td>Death of a Salesman</td>\n",
       "      <td>Arthur Miller</td>\n",
       "      <td>level_L</td>\n",
       "    </tr>\n",
       "    <tr>\n",
       "      <th>235</th>\n",
       "      <td>The French Lieutenant's Woman</td>\n",
       "      <td>John Fowles</td>\n",
       "      <td>level_L</td>\n",
       "    </tr>\n",
       "  </tbody>\n",
       "</table>\n",
       "<p>236 rows × 3 columns</p>\n",
       "</div>"
      ],
      "text/plain": [
       "                                                 Title                 Author   \n",
       "0                                           Hop on Pop              Dr. Seuss  \\\n",
       "1                       Jesse Bear,What Will You Wear?  Nancy White Carlstrom   \n",
       "2    Eating the Alphabet: Fruits and Vegetables fro...            Lois Ehlert   \n",
       "3                            Black? White! Day? Night!   Laura Vaccaro Seeger   \n",
       "4                                         Big Red Barn    Margaret Wise Brown   \n",
       "..                                                 ...                    ...   \n",
       "231                     The Waste Land and Other Poems             T.S. Eliot   \n",
       "232                                            Macbeth    William Shakespeare   \n",
       "233                                  Uncle Tom's Cabin  Harriet Beecher Stowe   \n",
       "234                                Death of a Salesman          Arthur Miller   \n",
       "235                      The French Lieutenant's Woman            John Fowles   \n",
       "\n",
       "    Language Level  \n",
       "0         level_6a  \n",
       "1         level_6a  \n",
       "2         level_6a  \n",
       "3         level_6a  \n",
       "4         level_6a  \n",
       "..             ...  \n",
       "231        level_L  \n",
       "232        level_L  \n",
       "233        level_L  \n",
       "234        level_L  \n",
       "235        level_L  \n",
       "\n",
       "[236 rows x 3 columns]"
      ]
     },
     "execution_count": 3,
     "metadata": {},
     "output_type": "execute_result"
    }
   ],
   "source": [
    "import pandas as pd\n",
    "df = pd.read_csv('book_levels.csv')\n",
    "df"
   ]
  },
  {
   "cell_type": "code",
   "execution_count": 4,
   "metadata": {},
   "outputs": [
    {
     "data": {
      "text/plain": [
       "Index(['Title', 'Author', 'Language Level'], dtype='object')"
      ]
     },
     "execution_count": 4,
     "metadata": {},
     "output_type": "execute_result"
    }
   ],
   "source": [
    "df.columns"
   ]
  },
  {
   "cell_type": "code",
   "execution_count": 5,
   "metadata": {},
   "outputs": [
    {
     "data": {
      "text/plain": [
       "['Title', 'Author', 'Language Level']"
      ]
     },
     "execution_count": 5,
     "metadata": {},
     "output_type": "execute_result"
    }
   ],
   "source": [
    "df.columns.tolist()"
   ]
  },
  {
   "cell_type": "code",
   "execution_count": null,
   "metadata": {},
   "outputs": [],
   "source": []
  }
 ],
 "metadata": {
  "kernelspec": {
   "display_name": "base",
   "language": "python",
   "name": "python3"
  },
  "language_info": {
   "codemirror_mode": {
    "name": "ipython",
    "version": 3
   },
   "file_extension": ".py",
   "mimetype": "text/x-python",
   "name": "python",
   "nbconvert_exporter": "python",
   "pygments_lexer": "ipython3",
   "version": "3.10.9"
  },
  "orig_nbformat": 4
 },
 "nbformat": 4,
 "nbformat_minor": 2
}
