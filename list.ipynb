{
 "cells": [
  {
   "attachments": {},
   "cell_type": "markdown",
   "metadata": {},
   "source": [
    "LIST"
   ]
  },
  {
   "cell_type": "code",
   "execution_count": 2,
   "metadata": {},
   "outputs": [
    {
     "name": "stdout",
     "output_type": "stream",
     "text": [
      "['Gmail', 'Photos', 'Youtube', 'WhatsApp', 'Music', 'Google', 'Meet', 'Netflix', 'Lightroom', 'JioSaavn', 'Google pay', 'Phone pay', 'Spotify', 'Amazon Prime', 'Instagram', 'Telegram', 'Twitter', 'LinkedIn', 'Ganna', 'Phone', 'Massage', 'chrome', 'firefox']\n"
     ]
    }
   ],
   "source": [
    "apps  = [\"Gmail\" , \"Photos\" , \"Youtube\" , \"WhatsApp\" , \"Music\" ,\"Google\" , \"Meet\" , \"Netflix\" , \n",
    "        \"Lightroom\" , \"JioSaavn\" , \"Google pay\" , \"Phone pay\" , \"Spotify\" , \"Amazon Prime\" , \n",
    "        \"Instagram\" , \"Telegram\" , \"Twitter\" , \"LinkedIn\" , \"Ganna\" , \"Phone\" , \"Massage\" , \"chrome\" , \"firefox\"]\n",
    "print(apps) \n",
    "\n",
    "\n",
    "\n"
   ]
  },
  {
   "cell_type": "code",
   "execution_count": 3,
   "metadata": {},
   "outputs": [
    {
     "data": {
      "text/plain": [
       "list"
      ]
     },
     "execution_count": 3,
     "metadata": {},
     "output_type": "execute_result"
    }
   ],
   "source": [
    "type(apps)"
   ]
  },
  {
   "attachments": {},
   "cell_type": "markdown",
   "metadata": {},
   "source": [
    "len() METHOD "
   ]
  },
  {
   "cell_type": "code",
   "execution_count": 4,
   "metadata": {},
   "outputs": [
    {
     "name": "stdout",
     "output_type": "stream",
     "text": [
      "23\n"
     ]
    }
   ],
   "source": [
    "print(len(apps))"
   ]
  },
  {
   "attachments": {},
   "cell_type": "markdown",
   "metadata": {},
   "source": [
    "append() METHOD\n"
   ]
  },
  {
   "cell_type": "code",
   "execution_count": 5,
   "metadata": {},
   "outputs": [
    {
     "name": "stdout",
     "output_type": "stream",
     "text": [
      "['Gmail', 'Photos', 'Youtube', 'WhatsApp', 'Music', 'Google', 'Meet', 'Netflix', 'Lightroom', 'JioSaavn', 'Google pay', 'Phone pay', 'Spotify', 'Amazon Prime', 'Instagram', 'Telegram', 'Twitter', 'LinkedIn', 'Ganna', 'Phone', 'Massage', 'chrome', 'firefox', 'MS Word']\n",
      "24\n"
     ]
    }
   ],
   "source": [
    "apps  = [\"Gmail\" , \"Photos\" , \"Youtube\" , \"WhatsApp\" , \"Music\" ,\"Google\" , \"Meet\" , \"Netflix\" , \n",
    "        \"Lightroom\" , \"JioSaavn\" , \"Google pay\" , \"Phone pay\" , \"Spotify\" , \"Amazon Prime\" , \n",
    "        \"Instagram\" , \"Telegram\" , \"Twitter\" , \"LinkedIn\" , \"Ganna\" , \"Phone\" , \"Massage\" , \"chrome\" , \"firefox\"]\n",
    "\n",
    "apps.append(\"MS Word\")\n",
    "print(apps)\n",
    "print(len(apps))"
   ]
  },
  {
   "attachments": {},
   "cell_type": "markdown",
   "metadata": {},
   "source": [
    "insert() METHOD:\n"
   ]
  },
  {
   "cell_type": "code",
   "execution_count": 9,
   "metadata": {},
   "outputs": [
    {
     "name": "stdout",
     "output_type": "stream",
     "text": [
      "['Gmail', 'Photos', 'Paint', 'Youtube', 'WhatsApp', 'Music', 'Google', 'Meet', 'Netflix', 'Lightroom', 'JioSaavn', 'Google pay', 'Phone pay', 'Spotify', 'Amazon Prime', 'Instagram', 'Telegram', 'Twitter', 'LinkedIn', 'Ganna', 'Phone', 'Massage', 'chrome', 'firefox']\n"
     ]
    }
   ],
   "source": [
    "apps  = [\"Gmail\" , \"Photos\" , \"Youtube\" , \"WhatsApp\" , \"Music\" ,\"Google\" , \"Meet\" , \"Netflix\" , \n",
    "        \"Lightroom\" , \"JioSaavn\" , \"Google pay\" , \"Phone pay\" , \"Spotify\" , \"Amazon Prime\" , \n",
    "        \"Instagram\" , \"Telegram\" , \"Twitter\" , \"LinkedIn\" , \"Youtube\" , \"Ganna\" , \"Phone\" , \"Massage\" , \"chrome\" , \"firefox\"]\n",
    "\n",
    "apps.insert(2 , \"Paint\")\n",
    "print(apps)"
   ]
  },
  {
   "attachments": {},
   "cell_type": "markdown",
   "metadata": {},
   "source": [
    "remove() METHOD: removes the first item at the specified value.\n"
   ]
  },
  {
   "cell_type": "code",
   "execution_count": 20,
   "metadata": {},
   "outputs": [
    {
     "name": "stdout",
     "output_type": "stream",
     "text": [
      "['Gmail', 'Photos', 'WhatsApp', 'Music', 'Google', 'Meet', 'Netflix', 'Lightroom', 'JioSaavn', 'Google pay', 'Phone pay', 'Spotify', 'Amazon Prime', 'Instagram', 'Telegram', 'Twitter', 'LinkedIn', 'Youtube', 'Ganna', 'Phone', 'Massage', 'chrome', 'firefox']\n"
     ]
    }
   ],
   "source": [
    "apps  = [\"Gmail\" , \"Photos\" , \"Youtube\" , \"WhatsApp\" , \"Music\" ,\"Google\" , \"Meet\" , \"Netflix\" , \n",
    "        \"Lightroom\" , \"JioSaavn\" , \"Google pay\" , \"Phone pay\" , \"Spotify\" , \"Amazon Prime\" , \n",
    "        \"Instagram\" , \"Telegram\" , \"Twitter\" , \"LinkedIn\" , \"Youtube\" , \"Ganna\" , \"Phone\" , \"Massage\" , \"chrome\" , \"firefox\"]\n",
    "\n",
    "apps.remove(\"Youtube\")\n",
    "print(apps)"
   ]
  },
  {
   "attachments": {},
   "cell_type": "markdown",
   "metadata": {},
   "source": [
    "pop() METHOD: removes the element at the specified position.\n"
   ]
  },
  {
   "cell_type": "code",
   "execution_count": 23,
   "metadata": {},
   "outputs": [
    {
     "name": "stdout",
     "output_type": "stream",
     "text": [
      "['Gmail', 'Photos', 'WhatsApp', 'Music', 'Meet', 'Netflix', 'Lightroom', 'JioSaavn', 'Google pay', 'Phone pay', 'Spotify', 'Amazon Prime', 'Instagram', 'Telegram', 'Twitter', 'LinkedIn', 'Youtube', 'Ganna', 'Phone', 'Massage', 'chrome', 'firefox']\n"
     ]
    }
   ],
   "source": [
    "apps.pop(4)\n",
    "print(apps)"
   ]
  },
  {
   "attachments": {},
   "cell_type": "markdown",
   "metadata": {},
   "source": [
    "clear() METHOD: removes all the element from the list.\n"
   ]
  },
  {
   "cell_type": "code",
   "execution_count": 24,
   "metadata": {},
   "outputs": [
    {
     "name": "stdout",
     "output_type": "stream",
     "text": [
      "[]\n"
     ]
    }
   ],
   "source": [
    "apps.clear()\n",
    "print(apps)"
   ]
  },
  {
   "attachments": {},
   "cell_type": "markdown",
   "metadata": {},
   "source": [
    "reverse() METHOD: reverse the order of the list."
   ]
  },
  {
   "cell_type": "code",
   "execution_count": 25,
   "metadata": {},
   "outputs": [
    {
     "name": "stdout",
     "output_type": "stream",
     "text": [
      "['firefox', 'chrome', 'Massage', 'Phone', 'Ganna', 'LinkedIn', 'Twitter', 'Telegram', 'Instagram', 'Amazon Prime', 'Spotify', 'Phone pay', 'Google pay', 'JioSaavn', 'Lightroom', 'Netflix', 'Meet', 'Google', 'Music', 'WhatsApp', 'Youtube', 'Photos', 'Gmail']\n"
     ]
    }
   ],
   "source": [
    "apps  = [\"Gmail\" , \"Photos\" , \"Youtube\" , \"WhatsApp\" , \"Music\" ,\"Google\" , \"Meet\" , \"Netflix\" , \n",
    "        \"Lightroom\" , \"JioSaavn\" , \"Google pay\" , \"Phone pay\" , \"Spotify\" , \"Amazon Prime\" , \n",
    "        \"Instagram\" , \"Telegram\" , \"Twitter\" , \"LinkedIn\" , \"Ganna\" , \"Phone\" , \"Massage\" , \"chrome\" , \"firefox\"]\n",
    "apps.reverse()\n",
    "print(apps)"
   ]
  },
  {
   "attachments": {},
   "cell_type": "markdown",
   "metadata": {},
   "source": [
    "copy() METHOD: returns the copy of the list.\n"
   ]
  },
  {
   "cell_type": "code",
   "execution_count": 26,
   "metadata": {},
   "outputs": [
    {
     "name": "stdout",
     "output_type": "stream",
     "text": [
      "['firefox', 'chrome', 'Massage', 'Phone', 'Ganna', 'LinkedIn', 'Twitter', 'Telegram', 'Instagram', 'Amazon Prime', 'Spotify', 'Phone pay', 'Google pay', 'JioSaavn', 'Lightroom', 'Netflix', 'Meet', 'Google', 'Music', 'WhatsApp', 'Youtube', 'Photos', 'Gmail']\n"
     ]
    }
   ],
   "source": [
    "apps.copy()\n",
    "print(apps)"
   ]
  },
  {
   "attachments": {},
   "cell_type": "markdown",
   "metadata": {},
   "source": [
    "sort() METHOD:"
   ]
  },
  {
   "cell_type": "code",
   "execution_count": 27,
   "metadata": {},
   "outputs": [
    {
     "name": "stdout",
     "output_type": "stream",
     "text": [
      "['Amazon Prime', 'Ganna', 'Gmail', 'Google', 'Google pay', 'Instagram', 'JioSaavn', 'Lightroom', 'LinkedIn', 'Massage', 'Meet', 'Music', 'Netflix', 'Phone', 'Phone pay', 'Photos', 'Spotify', 'Telegram', 'Twitter', 'WhatsApp', 'Youtube', 'chrome', 'firefox']\n"
     ]
    }
   ],
   "source": [
    "apps.sort()\n",
    "print(apps)"
   ]
  },
  {
   "attachments": {},
   "cell_type": "markdown",
   "metadata": {},
   "source": [
    "extend() METHOD:"
   ]
  },
  {
   "cell_type": "code",
   "execution_count": 32,
   "metadata": {},
   "outputs": [
    {
     "name": "stdout",
     "output_type": "stream",
     "text": [
      "['Gmail', 'Photos', 'Youtube', 'WhatsApp', 'Music', 'Google', 'Meet', 'Netflix', 'Lightroom', 'Spotify', 'Amazon Prime', 'Instagram', 'Telegram', 'Twitter', 'LinkedIn', 'Ganna', 'Phone', 'Massage', 'chrome', 'firefox']\n"
     ]
    }
   ],
   "source": [
    "apps1 = [\"Gmail\" , \"Photos\" , \"Youtube\" , \"WhatsApp\" , \"Music\" ,\"Google\" , \"Meet\" , \"Netflix\" , \"Lightroom\" ]\n",
    "         \n",
    "apps2 =[ \"Spotify\" , \"Amazon Prime\" , \"Instagram\" , \"Telegram\" , \"Twitter\" , \"LinkedIn\" ,\n",
    "         \"Ganna\" , \"Phone\" , \"Massage\" , \"chrome\" , \"firefox\"]\n",
    "\n",
    "apps1.extend(apps2)\n",
    "print(apps1)\n"
   ]
  },
  {
   "attachments": {},
   "cell_type": "markdown",
   "metadata": {},
   "source": [
    "count() METHOD:\n"
   ]
  },
  {
   "cell_type": "code",
   "execution_count": 36,
   "metadata": {},
   "outputs": [
    {
     "name": "stdout",
     "output_type": "stream",
     "text": [
      "1\n"
     ]
    }
   ],
   "source": [
    "apps = [ \"Instagram\" , \"Telegram\" , \"Twitter\" , \"LinkedIn\" , \"Ganna\" , \"Phone\" , \"Massage\" , \"chrome\" , \"firefox\"]\n",
    "x = apps.count(\"Telegram\")\n",
    "print(x)\n"
   ]
  },
  {
   "attachments": {},
   "cell_type": "markdown",
   "metadata": {},
   "source": [
    "SUM() FUNCTION:"
   ]
  },
  {
   "cell_type": "code",
   "execution_count": 37,
   "metadata": {},
   "outputs": [
    {
     "name": "stdout",
     "output_type": "stream",
     "text": [
      "15\n"
     ]
    }
   ],
   "source": [
    "my_list = [1 , 2, 3, 4 , 5]\n",
    "list_sum = sum(my_list)\n",
    "print(list_sum)"
   ]
  },
  {
   "attachments": {},
   "cell_type": "markdown",
   "metadata": {},
   "source": [
    "MAX() FUNCTION:"
   ]
  },
  {
   "cell_type": "code",
   "execution_count": 39,
   "metadata": {},
   "outputs": [
    {
     "name": "stdout",
     "output_type": "stream",
     "text": [
      "5\n"
     ]
    }
   ],
   "source": [
    "list_max = max(my_list)\n",
    "print(list_max)"
   ]
  },
  {
   "attachments": {},
   "cell_type": "markdown",
   "metadata": {},
   "source": [
    "MIN() FUNCTION:"
   ]
  },
  {
   "cell_type": "code",
   "execution_count": 41,
   "metadata": {},
   "outputs": [
    {
     "name": "stdout",
     "output_type": "stream",
     "text": [
      "1\n"
     ]
    }
   ],
   "source": [
    "list_min = min(my_list)\n",
    "print(list_min)"
   ]
  },
  {
   "attachments": {},
   "cell_type": "markdown",
   "metadata": {},
   "source": [
    "LIST COMPREHENSION:\n"
   ]
  },
  {
   "cell_type": "code",
   "execution_count": 1,
   "metadata": {},
   "outputs": [
    {
     "name": "stdout",
     "output_type": "stream",
     "text": [
      "['apple', 'banana', 'mango', 'pineapple', 'watermelon']\n"
     ]
    }
   ],
   "source": [
    "fruits =[\"apple\" , \"banana\" ,\"mango\" ,\"pineapple\" ,\"watermelon\" , \"cherry\"]\n",
    "new_list=[]\n",
    "for x in fruits:\n",
    "    if \"a\" in x:\n",
    "        new_list.append(x)\n",
    "print(new_list)        \n"
   ]
  },
  {
   "attachments": {},
   "cell_type": "markdown",
   "metadata": {},
   "source": [
    "syntax = newlist = [expression fpr item in iterable if condition == True]"
   ]
  },
  {
   "cell_type": "code",
   "execution_count": 4,
   "metadata": {},
   "outputs": [
    {
     "name": "stdout",
     "output_type": "stream",
     "text": [
      "['apple', 'banana', 'mango', 'pineapple', 'watermelon']\n"
     ]
    }
   ],
   "source": [
    "fruits =[\"apple\" , \"banana\" ,\"mango\" ,\"pineapple\" ,\"watermelon\" , \"cherry\" , \"kiwi\"]\n",
    "new_list=[x for x in fruits if \"a\" in x]\n",
    "print(new_list)"
   ]
  },
  {
   "cell_type": "code",
   "execution_count": 5,
   "metadata": {},
   "outputs": [
    {
     "name": "stdout",
     "output_type": "stream",
     "text": [
      "A S\n"
     ]
    }
   ],
   "source": [
    "a = \"Anupma Singh\"\n",
    "word = a.split()\n",
    "x = [word[0] for word in a.split()]\n",
    "y = \" \".join(x)\n",
    "print(y)\n"
   ]
  },
  {
   "attachments": {},
   "cell_type": "markdown",
   "metadata": {},
   "source": [
    "Questions practise:"
   ]
  },
  {
   "attachments": {},
   "cell_type": "markdown",
   "metadata": {},
   "source": [
    "1. Write a program that creates a list of strings and then sorts the list alphabetically. Print the sorted list."
   ]
  },
  {
   "cell_type": "code",
   "execution_count": 3,
   "metadata": {},
   "outputs": [
    {
     "name": "stdout",
     "output_type": "stream",
     "text": [
      "['Apple', 'Banana', 'Grapes', 'Mango', 'Papaya', 'Watermelon']\n"
     ]
    }
   ],
   "source": [
    "fruits = [\"Apple\" , \"Mango\" , \"Banana\" , \"Grapes\" , \"Watermelon\" , \"Papaya\"]\n",
    "fruits.sort()\n",
    "print(fruits)"
   ]
  },
  {
   "cell_type": "code",
   "execution_count": 5,
   "metadata": {},
   "outputs": [
    {
     "name": "stdout",
     "output_type": "stream",
     "text": [
      "['brainout', 'call_of_duty', 'carrom_pool', 'freefair', 'ludo_king', 'pubg', 'subway_suffer']\n"
     ]
    }
   ],
   "source": [
    "games = [\"freefair\" , \"pubg\" , \"ludo_king\" , \"call_of_duty\" , \"carrom_pool\" , \"brainout\" , \"subway_suffer\"]\n",
    "games.sort()\n",
    "print(games)"
   ]
  },
  {
   "attachments": {},
   "cell_type": "markdown",
   "metadata": {},
   "source": [
    "2. Write a program that creates a list of integers and then finds the maximum value in the list. Print the maximum value."
   ]
  },
  {
   "cell_type": "code",
   "execution_count": 6,
   "metadata": {},
   "outputs": [
    {
     "name": "stdout",
     "output_type": "stream",
     "text": [
      "100\n"
     ]
    }
   ],
   "source": [
    "num = [20 , 40 , 50 , 60 , 70 , 100]\n",
    "my_max = max(num)\n",
    "print(my_max)\n"
   ]
  },
  {
   "attachments": {},
   "cell_type": "markdown",
   "metadata": {},
   "source": [
    "3. Write a program that creates two lists of integers and then finds the common elements between those two lists. Print the common elements."
   ]
  },
  {
   "cell_type": "code",
   "execution_count": 28,
   "metadata": {},
   "outputs": [
    {
     "data": {
      "text/plain": [
       "[5]"
      ]
     },
     "execution_count": 28,
     "metadata": {},
     "output_type": "execute_result"
    }
   ],
   "source": [
    "list_1 = [1, 2, 3, 4, 5]\n",
    "list_2 = [5, 6, 7, 8, 9]\n",
    "list(set(list_1).intersection(list_2))\n"
   ]
  },
  {
   "attachments": {},
   "cell_type": "markdown",
   "metadata": {},
   "source": [
    "4. Write a program that creates a list of strings and then removes all elements that contain a specific substring. Print the final list."
   ]
  },
  {
   "cell_type": "code",
   "execution_count": null,
   "metadata": {},
   "outputs": [],
   "source": [
    "games = [\"freefair\" , \"pubg\" , \"ludo_king\" , \"call_of_duty\" , \"carrom_pool\" , \"brainout\" , \"subway_suffer\"]"
   ]
  },
  {
   "attachments": {},
   "cell_type": "markdown",
   "metadata": {},
   "source": [
    "5. Write a program that creates a nested list and then accesses a specific element in the list. Print the accessed element."
   ]
  },
  {
   "cell_type": "code",
   "execution_count": 12,
   "metadata": {},
   "outputs": [
    {
     "name": "stdout",
     "output_type": "stream",
     "text": [
      "['ludo_king', 'call_of_duty', 'carrom_pool']\n",
      "(['ludo_king', 'call_of_duty', 'carrom_pool'], [1])\n"
     ]
    }
   ],
   "source": [
    "nested_games_list = [\"freefair\" , \"pubg\" , [\"ludo_king\" , \"call_of_duty\" , \"carrom_pool\"] , \"brainout\" , \"subway_suffer\"]\n",
    "sub_list = nested_games_list[2]\n",
    "print(sub_list)\n",
    "sub_list_2 = nested_games_list[2] , [1]\n",
    "print(sub_list_2)\n",
    "\n",
    "\n"
   ]
  },
  {
   "attachments": {},
   "cell_type": "markdown",
   "metadata": {},
   "source": [
    "6. Write a program that creates a list of integers and then removes all duplicates from the list. Print the final list."
   ]
  },
  {
   "cell_type": "code",
   "execution_count": 17,
   "metadata": {},
   "outputs": [
    {
     "name": "stdout",
     "output_type": "stream",
     "text": [
      "[1, 2, 3, 4, 5, 6, 7, 8, 9]\n"
     ]
    }
   ],
   "source": [
    "num = [1,1,1,1,3,3,4,5,6,7,8,8,9,9,4,3,2]\n",
    "num = list(set(num))\n",
    "print(num)\n"
   ]
  },
  {
   "attachments": {},
   "cell_type": "markdown",
   "metadata": {},
   "source": [
    "7. Write a program that creates a list of strings and then finds the longest string in the list. Print the longest string."
   ]
  },
  {
   "cell_type": "code",
   "execution_count": 30,
   "metadata": {},
   "outputs": [
    {
     "name": "stdout",
     "output_type": "stream",
     "text": [
      "Longest String: subway_suffer\n"
     ]
    }
   ],
   "source": [
    "l =[\"freefair\" , \"pubg\" , \"ludo_king\" , \"call_of_duty\" , \"carrom_pool\" , \"brainout\" , \"subway_suffer\"]\n",
    "largeIdx = 0\n",
    "largeLen = 0\n",
    "\n",
    "for i in range(len(l)):\n",
    "    length = len(l[i])\n",
    "    if length > largeLen:\n",
    "        largeLen = length\n",
    "        largeIdx = i\n",
    "\n",
    "print(\"Longest String:\", l[largeIdx])"
   ]
  },
  {
   "attachments": {},
   "cell_type": "markdown",
   "metadata": {},
   "source": [
    "8. Write a program that creates a list of integers and then finds the sum of all the even numbers in the list. Print the sum.\n"
   ]
  },
  {
   "cell_type": "code",
   "execution_count": 34,
   "metadata": {},
   "outputs": [
    {
     "name": "stdout",
     "output_type": "stream",
     "text": [
      "\n",
      "Sum of Even Numbers is 26\n"
     ]
    }
   ],
   "source": [
    "num = [2, 3, 5, 6, 8, 10]\n",
    "sum = 0\n",
    "\n",
    "for i in range(6):\n",
    "    if num[i]%2 == 0:\n",
    "        sum = sum + num[i]\n",
    "\n",
    "print(\"\\nSum of Even Numbers is\", sum)"
   ]
  },
  {
   "attachments": {},
   "cell_type": "markdown",
   "metadata": {},
   "source": [
    "9. Write a program that creates a list of integers and then asks the user to input a position to remove an element from the list. Print the final list."
   ]
  },
  {
   "cell_type": "code",
   "execution_count": 3,
   "metadata": {},
   "outputs": [
    {
     "name": "stdout",
     "output_type": "stream",
     "text": [
      "[20, 40, 60, 70]\n"
     ]
    }
   ],
   "source": [
    "a = [20 , 40 , 50 , 60 , 70]\n",
    "b = int(input(\"Enter the position\"))\n",
    "a.remove(a[b])\n",
    "print(a)\n",
    "\n",
    "\n",
    "\n",
    "\n",
    "\n"
   ]
  },
  {
   "attachments": {},
   "cell_type": "markdown",
   "metadata": {},
   "source": [
    "10 .Write a program that creates a list of strings and then concatenates all the strings into a single string. Print the final string."
   ]
  },
  {
   "cell_type": "code",
   "execution_count": 7,
   "metadata": {},
   "outputs": [
    {
     "name": "stdout",
     "output_type": "stream",
     "text": [
      "freefairpubgludo_kingcall_of_dutycarrom_poolbrainoutsubway_suffer\n"
     ]
    }
   ],
   "source": [
    "games = [\"freefair\" , \"pubg\" , \"ludo_king\" , \"call_of_duty\" , \"carrom_pool\" , \"brainout\" , \"subway_suffer\"]\n",
    "print(games[0]+games[1]+games[2]+games[3]+games[4]+games[5]+games[6])\n",
    "\n",
    "\n"
   ]
  },
  {
   "attachments": {},
   "cell_type": "markdown",
   "metadata": {},
   "source": [
    "11. write a program that creates the list of integers and then ask user to input interger to check if it is exit in the list , print a massage indicating wether the integer in list or not.\n"
   ]
  },
  {
   "cell_type": "code",
   "execution_count": 15,
   "metadata": {},
   "outputs": [
    {
     "name": "stdout",
     "output_type": "stream",
     "text": [
      "20\n"
     ]
    }
   ],
   "source": [
    "num = [10 , 20 , 30 , 40 , 50]\n",
    "user = int(input(\"Enter a number from the given list.\"))\n",
    "if (user in num):\n",
    "    print(user)\n",
    "else:\n",
    "    print(\"not found\")    \n",
    "\n",
    "\n"
   ]
  },
  {
   "attachments": {},
   "cell_type": "markdown",
   "metadata": {},
   "source": [
    "12. WAP that creates an empty list and then ask the user to input integer to add to the list . print the final list"
   ]
  },
  {
   "cell_type": "code",
   "execution_count": 27,
   "metadata": {},
   "outputs": [],
   "source": [
    "list_1 = []\n",
    "\n"
   ]
  },
  {
   "attachments": {},
   "cell_type": "markdown",
   "metadata": {},
   "source": [
    "13. Write a program that creates a list of integers and then finds the median value of the list. Print the median.\n"
   ]
  },
  {
   "cell_type": "code",
   "execution_count": null,
   "metadata": {},
   "outputs": [],
   "source": []
  }
 ],
 "metadata": {
  "kernelspec": {
   "display_name": "base",
   "language": "python",
   "name": "python3"
  },
  "language_info": {
   "codemirror_mode": {
    "name": "ipython",
    "version": 3
   },
   "file_extension": ".py",
   "mimetype": "text/x-python",
   "name": "python",
   "nbconvert_exporter": "python",
   "pygments_lexer": "ipython3",
   "version": "3.10.9"
  },
  "orig_nbformat": 4
 },
 "nbformat": 4,
 "nbformat_minor": 2
}
