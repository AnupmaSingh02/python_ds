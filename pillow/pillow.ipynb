{
 "cells": [
  {
   "cell_type": "code",
   "execution_count": 12,
   "metadata": {},
   "outputs": [],
   "source": [
    "from PIL import Image\n",
    "\n",
    "# create new image by import\n",
    "image = Image.open(r\"C:\\Users\\as350\\Pictures\\Wallpaper\\Zoot Suite.png\") \n",
    "image.show()\n",
    "\n",
    "# alternative way to import an image\n",
    "# with Image.open(r\"C:\\Users\\as350\\Pictures\\Wallpaper\\Zoot Suite.png\") as Image:\n",
    " #   image.show"
   ]
  },
  {
   "cell_type": "code",
   "execution_count": 7,
   "metadata": {},
   "outputs": [],
   "source": [
    "# create a new image from scratch\n",
    "# image_blank = Image.new('RGBA',(1000,600))\n",
    "# image_blank.show()"
   ]
  },
  {
   "cell_type": "code",
   "execution_count": 8,
   "metadata": {},
   "outputs": [],
   "source": [
    "# saving the picture\n",
    "# image.save('test_save.png')"
   ]
  },
  {
   "cell_type": "code",
   "execution_count": 13,
   "metadata": {},
   "outputs": [
    {
     "name": "stdout",
     "output_type": "stream",
     "text": [
      "(3840, 2160)\n",
      "PNG\n",
      "Portable network graphics\n"
     ]
    }
   ],
   "source": [
    "# image information\n",
    "\n",
    "print(image.size)\n",
    "print(image.format)\n",
    "print(image.format_description)"
   ]
  },
  {
   "attachments": {},
   "cell_type": "markdown",
   "metadata": {},
   "source": [
    "BASIC MANIPULATION:"
   ]
  },
  {
   "attachments": {},
   "cell_type": "markdown",
   "metadata": {},
   "source": [
    "Rotate, Flip, crop, scale,\n",
    "Creating a thumbnail"
   ]
  },
  {
   "cell_type": "code",
   "execution_count": 21,
   "metadata": {},
   "outputs": [],
   "source": [
    "# rotate \n",
    "                                                        # r, g, b\n",
    "image_rotate = image.rotate(60, expand=True, fillcolor=(255,100,100))\n",
    "image_rotate.show()"
   ]
  },
  {
   "cell_type": "code",
   "execution_count": 33,
   "metadata": {},
   "outputs": [],
   "source": [
    "# crop                   #left_x,top_y,right_x,bottem_y\n",
    "image_crop = image.crop((1000, 500, 1400, 1750)) \n",
    "image_crop.show()"
   ]
  },
  {
   "cell_type": "code",
   "execution_count": 37,
   "metadata": {},
   "outputs": [],
   "source": [
    "# Flipping the image / transpose the image\n",
    "image_flip_horizontal = image.transpose(Image.Transpose.FLIP_LEFT_RIGHT)\n",
    "image_flip_vertical = image.transpose(Image.Transpose.FLIP_TOP_BOTTOM)\n",
    "image_flip_horizontal.show()\n",
    "image_flip_vertical.show()\n"
   ]
  },
  {
   "attachments": {},
   "cell_type": "markdown",
   "metadata": {},
   "source": [
    "Filters and Enhancement:"
   ]
  },
  {
   "attachments": {},
   "cell_type": "markdown",
   "metadata": {},
   "source": [
    "Pillow can change vibrance, contrast, brightness and sharpness using ImageEnhance"
   ]
  },
  {
   "attachments": {},
   "cell_type": "markdown",
   "metadata": {},
   "source": [
    "and it can do blur, contour, embass, sharpenning etc using Filters(there are a lot of those)"
   ]
  },
  {
   "cell_type": "code",
   "execution_count": null,
   "metadata": {},
   "outputs": [],
   "source": [
    "\n"
   ]
  }
 ],
 "metadata": {
  "kernelspec": {
   "display_name": "base",
   "language": "python",
   "name": "python3"
  },
  "language_info": {
   "codemirror_mode": {
    "name": "ipython",
    "version": 3
   },
   "file_extension": ".py",
   "mimetype": "text/x-python",
   "name": "python",
   "nbconvert_exporter": "python",
   "pygments_lexer": "ipython3",
   "version": "3.10.9"
  },
  "orig_nbformat": 4
 },
 "nbformat": 4,
 "nbformat_minor": 2
}
