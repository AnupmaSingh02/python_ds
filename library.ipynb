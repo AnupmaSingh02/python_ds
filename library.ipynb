{
 "cells": [
  {
   "cell_type": "code",
   "execution_count": 1,
   "metadata": {},
   "outputs": [],
   "source": [
    "import math"
   ]
  },
  {
   "cell_type": "code",
   "execution_count": 5,
   "metadata": {},
   "outputs": [
    {
     "name": "stdout",
     "output_type": "stream",
     "text": [
      "5.0\n",
      "3.141592653589793\n",
      "1307674368000\n",
      "2.0\n",
      "6.643856189774725\n"
     ]
    }
   ],
   "source": [
    "print(math.sqrt(25))\n",
    "print(math.pi)\n",
    "print(math.factorial(15))\n",
    "print(math.log(100,10))\n",
    "print(math.log(100,2))"
   ]
  },
  {
   "cell_type": "code",
   "execution_count": 16,
   "metadata": {},
   "outputs": [
    {
     "name": "stdout",
     "output_type": "stream",
     "text": [
      "get a number between 0 and 1:  0.6280960887518499\n",
      "get a random integer between 50 and 100 :  55\n",
      "get a random item : win\n",
      "shuffle a list : ['Jane', 'Joe', 'Jill', 'Jack', 'John']\n"
     ]
    }
   ],
   "source": [
    "from random import random, randint, choice, shuffle\n",
    "print('get a number between 0 and 1: ', random())\n",
    "print('get a random integer between 50 and 100 : ', randint(50 , 100))\n",
    "print('get a random item :', choice(['win', 'lose', 'draw']))\n",
    "\n",
    "names = ['John', 'Jane', 'Jack', 'Jill', 'Joe']\n",
    "shuffle(names)\n",
    "print('shuffle a list :', names)"
   ]
  },
  {
   "cell_type": "code",
   "execution_count": 2,
   "metadata": {},
   "outputs": [],
   "source": [
    "from datetime import datetime as dt"
   ]
  },
  {
   "cell_type": "code",
   "execution_count": 3,
   "metadata": {},
   "outputs": [
    {
     "name": "stdout",
     "output_type": "stream",
     "text": [
      "current : 2023-05-09 16:17:08.452253\n",
      "current time : 16:17:08.452484\n",
      "current date : 2023-05-09\n",
      "timestamp : 1683629228.453494\n",
      "year : 2023\n",
      "month : 5\n",
      "day : 9\n"
     ]
    }
   ],
   "source": [
    "print('current :', dt.now())\n",
    "print('current time :', dt.now().time())\n",
    "print('current date :', dt.now().date())\n",
    "print('timestamp :', dt.now().timestamp())\n",
    "print('year :',dt.now().year)\n",
    "print('month :',dt.now().month)\n",
    "print('day :',dt.now().day)\n",
    "\n"
   ]
  },
  {
   "cell_type": "code",
   "execution_count": 4,
   "metadata": {},
   "outputs": [
    {
     "name": "stdout",
     "output_type": "stream",
     "text": [
      "formatted date 09-05-2023\n"
     ]
    }
   ],
   "source": [
    "date = dt.strftime(dt.now(), '%d-%m-%Y')\n",
    "print('formatted date' , date)\n"
   ]
  },
  {
   "cell_type": "code",
   "execution_count": 8,
   "metadata": {},
   "outputs": [
    {
     "name": "stdout",
     "output_type": "stream",
     "text": [
      "time : 16:27:21\n"
     ]
    }
   ],
   "source": [
    "time = dt.strftime(dt.now(), '%H:%M:%S')\n",
    "print(\"time :\", time)\n"
   ]
  },
  {
   "cell_type": "code",
   "execution_count": 9,
   "metadata": {},
   "outputs": [],
   "source": [
    "import os #know about folder and files"
   ]
  },
  {
   "cell_type": "code",
   "execution_count": 11,
   "metadata": {},
   "outputs": [
    {
     "name": "stdout",
     "output_type": "stream",
     "text": [
      "current folder :  c:\\Users\\as350\\OneDrive\\Documents\\Python-Data-Science\n"
     ]
    }
   ],
   "source": [
    "print('current folder : ',os.getcwd()) #get current working directory"
   ]
  },
  {
   "cell_type": "code",
   "execution_count": 12,
   "metadata": {},
   "outputs": [
    {
     "name": "stdout",
     "output_type": "stream",
     "text": [
      "['.git', 'Assignment.ipynb', 'basics.ipynb', 'classes and objects.ipynb', 'classes.ipynb', 'dictionary.ipynb', 'function-02.ipynb', 'function.ipynb', 'input_output.ipynb', 'library.ipynb', 'list.ipynb', 'loops.ipynb', 'self_practise.ipynb', 'string.ipynb', 't6_with_loop.py', 'Turtle-goto-func.py', 'Turtle.decagon.py', 'Turtle.octagon.py', 'Turtle.pentagon.py', 'Turtle.square.py', 'Turtle.triangle.py', 'Turtle_concentric.circle.py', 'Turtle_concentric.square.py', 'Turtle_Shellpattern.py', 'watch.py']\n"
     ]
    }
   ],
   "source": [
    "files = os.listdir() # list all files and folders in current directory\n",
    "print(files)"
   ]
  },
  {
   "cell_type": "code",
   "execution_count": 14,
   "metadata": {},
   "outputs": [
    {
     "name": "stdout",
     "output_type": "stream",
     "text": [
      "['.git', 'Assignment.ipynb', 'basics.ipynb', 'classes and objects.ipynb', 'classes.ipynb', 'dictionary.ipynb', 'function-02.ipynb', 'function.ipynb', 'input_output.ipynb', 'library.ipynb', 'list.ipynb', 'loops.ipynb', 'self_practise.ipynb', 'string.ipynb', 't6_with_loop.py', 'Turtle-goto-func.py', 'Turtle.decagon.py', 'Turtle.octagon.py', 'Turtle.pentagon.py', 'Turtle.square.py', 'Turtle.triangle.py', 'Turtle_concentric.circle.py', 'Turtle_concentric.square.py', 'Turtle_Shellpattern.py', 'watch.py']\n",
      "25\n"
     ]
    }
   ],
   "source": [
    "files = os.listdir(r\"c:\\Users\\as350\\OneDrive\\Documents\\Python-Data-Science\")\n",
    "print(files)\n",
    "print(len(files))"
   ]
  },
  {
   "cell_type": "code",
   "execution_count": 15,
   "metadata": {},
   "outputs": [
    {
     "data": {
      "text/plain": [
       "<generator object _walk at 0x0000015804BF2A40>"
      ]
     },
     "execution_count": 15,
     "metadata": {},
     "output_type": "execute_result"
    }
   ],
   "source": [
    "os.walk('c:') #walk through all folder and files in c drive\n"
   ]
  },
  {
   "cell_type": "code",
   "execution_count": 19,
   "metadata": {},
   "outputs": [
    {
     "name": "stdout",
     "output_type": "stream",
     "text": [
      "=> c:\\Users\\as350\\OneDrive\\Documents\\Python-Data-Science\n",
      "📁 ['.git']\n",
      "📄 ['Assignment.ipynb', 'basics.ipynb', 'classes and objects.ipynb', 'classes.ipynb', 'dictionary.ipynb', 'function-02.ipynb', 'function.ipynb', 'input_output.ipynb', 'library.ipynb', 'list.ipynb', 'loops.ipynb', 'self_practise.ipynb', 'string.ipynb', 't6_with_loop.py', 'Turtle-goto-func.py', 'Turtle.decagon.py', 'Turtle.octagon.py', 'Turtle.pentagon.py', 'Turtle.square.py', 'Turtle.triangle.py', 'Turtle_concentric.circle.py', 'Turtle_concentric.square.py', 'Turtle_Shellpattern.py', 'watch.py']\n",
      "---------------\n",
      "=> c:\\Users\\as350\\OneDrive\\Documents\\Python-Data-Science\\.git\n",
      "📁 ['hooks', 'info', 'logs', 'objects', 'refs']\n",
      "📄 ['COMMIT_EDITMSG', 'config', 'description', 'FETCH_HEAD', 'HEAD', 'index', 'ORIG_HEAD']\n",
      "---------------\n",
      "=> c:\\Users\\as350\\OneDrive\\Documents\\Python-Data-Science\\.git\\hooks\n",
      "📁 []\n",
      "📄 ['applypatch-msg.sample', 'commit-msg.sample', 'fsmonitor-watchman.sample', 'post-update.sample', 'pre-applypatch.sample', 'pre-commit.sample', 'pre-merge-commit.sample', 'pre-push.sample', 'pre-rebase.sample', 'pre-receive.sample', 'prepare-commit-msg.sample', 'push-to-checkout.sample', 'update.sample']\n",
      "---------------\n",
      "=> c:\\Users\\as350\\OneDrive\\Documents\\Python-Data-Science\\.git\\info\n",
      "📁 []\n",
      "📄 ['exclude']\n",
      "---------------\n",
      "=> c:\\Users\\as350\\OneDrive\\Documents\\Python-Data-Science\\.git\\logs\n",
      "📁 ['refs']\n",
      "📄 ['HEAD']\n",
      "---------------\n",
      "=> c:\\Users\\as350\\OneDrive\\Documents\\Python-Data-Science\\.git\\logs\\refs\n",
      "📁 ['heads', 'remotes']\n",
      "📄 []\n",
      "---------------\n",
      "=> c:\\Users\\as350\\OneDrive\\Documents\\Python-Data-Science\\.git\\logs\\refs\\heads\n",
      "📁 []\n",
      "📄 ['master']\n",
      "---------------\n",
      "=> c:\\Users\\as350\\OneDrive\\Documents\\Python-Data-Science\\.git\\logs\\refs\\remotes\n",
      "📁 ['origin']\n",
      "📄 []\n",
      "---------------\n",
      "=> c:\\Users\\as350\\OneDrive\\Documents\\Python-Data-Science\\.git\\logs\\refs\\remotes\\origin\n",
      "📁 []\n",
      "📄 ['master']\n",
      "---------------\n",
      "=> c:\\Users\\as350\\OneDrive\\Documents\\Python-Data-Science\\.git\\objects\n",
      "📁 ['01', '02', '04', '06', '07', '08', '09', '0b', '0d', '15', '1a', '21', '22', '26', '28', '2c', '31', '39', '3a', '3b', '3f', '42', '47', '49', '4a', '51', '5a', '5c', '5e', '67', '69', '6b', '70', '71', '72', '79', '7e', '80', '84', '86', '87', '8a', '8b', '91', '92', '94', '96', '98', '9a', '9c', 'a2', 'a3', 'a4', 'a8', 'aa', 'ab', 'ae', 'b0', 'b3', 'b4', 'b6', 'bb', 'bd', 'be', 'c1', 'c2', 'c3', 'c4', 'c5', 'c9', 'ce', 'd0', 'd1', 'd2', 'd4', 'da', 'e0', 'e7', 'e8', 'eb', 'ec', 'ee', 'fc', 'info', 'pack']\n",
      "📄 []\n",
      "---------------\n",
      "=> c:\\Users\\as350\\OneDrive\\Documents\\Python-Data-Science\\.git\\objects\\01\n",
      "📁 []\n",
      "📄 ['e53f5fd0523834df114fbe980904d169a384b7']\n",
      "---------------\n",
      "=> c:\\Users\\as350\\OneDrive\\Documents\\Python-Data-Science\\.git\\objects\\02\n",
      "📁 []\n",
      "📄 ['060480c3b1e604cd8b71a99608636e26b6ae85']\n",
      "---------------\n",
      "=> c:\\Users\\as350\\OneDrive\\Documents\\Python-Data-Science\\.git\\objects\\04\n",
      "📁 []\n",
      "📄 ['5244589ecefd65c20cb2666d91191a88b82637']\n",
      "---------------\n",
      "=> c:\\Users\\as350\\OneDrive\\Documents\\Python-Data-Science\\.git\\objects\\06\n",
      "📁 []\n",
      "📄 ['6a9b9a7f9e88602c660cae1f6c4c1a3cfa2b78']\n",
      "---------------\n",
      "=> c:\\Users\\as350\\OneDrive\\Documents\\Python-Data-Science\\.git\\objects\\07\n",
      "📁 []\n",
      "📄 ['883c7f992f8a26eda7fe6ab80cc8f98facf0fc']\n",
      "---------------\n",
      "=> c:\\Users\\as350\\OneDrive\\Documents\\Python-Data-Science\\.git\\objects\\08\n",
      "📁 []\n",
      "📄 ['60a12886f7b30e046c70bfb8b32e76f07563e8']\n",
      "---------------\n",
      "=> c:\\Users\\as350\\OneDrive\\Documents\\Python-Data-Science\\.git\\objects\\09\n",
      "📁 []\n",
      "📄 ['c6a82153da9a10d1ad48af3f0ff935b279e287']\n",
      "---------------\n",
      "=> c:\\Users\\as350\\OneDrive\\Documents\\Python-Data-Science\\.git\\objects\\0b\n",
      "📁 []\n",
      "📄 ['5c51a821b8579c0c94277db0606fc1501e3527']\n",
      "---------------\n",
      "=> c:\\Users\\as350\\OneDrive\\Documents\\Python-Data-Science\\.git\\objects\\0d\n",
      "📁 []\n",
      "📄 ['2c7f564beec0dbe3b1a34381783d3a79a9cc0b']\n",
      "---------------\n",
      "=> c:\\Users\\as350\\OneDrive\\Documents\\Python-Data-Science\\.git\\objects\\15\n",
      "📁 []\n",
      "📄 ['9fcd7f49dd76000e04f93ab1109530221dc67a']\n",
      "---------------\n",
      "=> c:\\Users\\as350\\OneDrive\\Documents\\Python-Data-Science\\.git\\objects\\1a\n",
      "📁 []\n",
      "📄 ['01d9824da0a79f6d65703009e83da355f86fa2']\n",
      "---------------\n",
      "=> c:\\Users\\as350\\OneDrive\\Documents\\Python-Data-Science\\.git\\objects\\21\n",
      "📁 []\n",
      "📄 ['a776db8c53423991bfbd922e358ed2e406ef05']\n",
      "---------------\n",
      "=> c:\\Users\\as350\\OneDrive\\Documents\\Python-Data-Science\\.git\\objects\\22\n",
      "📁 []\n",
      "📄 ['07cf3e6767e66d2adbfafd34f60b8e3ff63dc5', 'b5c7a18c2cceb7c7138e87070fad2af6c9ce6b', 'f73be8c434f018d48888ee81bcff6f3609d149']\n",
      "---------------\n",
      "=> c:\\Users\\as350\\OneDrive\\Documents\\Python-Data-Science\\.git\\objects\\26\n",
      "📁 []\n",
      "📄 ['d8ab190f092fb85311adf63eba3e752150ae74']\n",
      "---------------\n",
      "=> c:\\Users\\as350\\OneDrive\\Documents\\Python-Data-Science\\.git\\objects\\28\n",
      "📁 []\n",
      "📄 ['1a6606e2bff98d059d8c6608a743c1ad5cffb8']\n",
      "---------------\n",
      "=> c:\\Users\\as350\\OneDrive\\Documents\\Python-Data-Science\\.git\\objects\\2c\n",
      "📁 []\n",
      "📄 ['df9fbd60d7aaa7473db4c7a16a7587212ad50a']\n",
      "---------------\n",
      "=> c:\\Users\\as350\\OneDrive\\Documents\\Python-Data-Science\\.git\\objects\\31\n",
      "📁 []\n",
      "📄 ['22f6169e669ed3dc2380ac1e5260758d6ce0c2']\n",
      "---------------\n",
      "=> c:\\Users\\as350\\OneDrive\\Documents\\Python-Data-Science\\.git\\objects\\39\n",
      "📁 []\n",
      "📄 ['58f59ccffac1cf8e7d9c31eb6f36cfd82aa256']\n",
      "---------------\n",
      "=> c:\\Users\\as350\\OneDrive\\Documents\\Python-Data-Science\\.git\\objects\\3a\n",
      "📁 []\n",
      "📄 ['c4dea62ca37fc580d185ea407f41f03b84d5d7']\n",
      "---------------\n",
      "=> c:\\Users\\as350\\OneDrive\\Documents\\Python-Data-Science\\.git\\objects\\3b\n",
      "📁 []\n",
      "📄 ['196c81a7b574d76368a3898857c053e9a0e09d', 'a65d958016ed095207125a9c72c94490172a31']\n",
      "---------------\n",
      "=> c:\\Users\\as350\\OneDrive\\Documents\\Python-Data-Science\\.git\\objects\\3f\n",
      "📁 []\n",
      "📄 ['875ce353d4545f023a850f2e7e6e83b5c2d75e']\n",
      "---------------\n",
      "=> c:\\Users\\as350\\OneDrive\\Documents\\Python-Data-Science\\.git\\objects\\42\n",
      "📁 []\n",
      "📄 ['a4ffc3d57dde7279cd979f123b1202ca747157']\n",
      "---------------\n",
      "=> c:\\Users\\as350\\OneDrive\\Documents\\Python-Data-Science\\.git\\objects\\47\n",
      "📁 []\n",
      "📄 ['2a1100954fc060040cc305d7e1a7dfec0dff0c']\n",
      "---------------\n",
      "=> c:\\Users\\as350\\OneDrive\\Documents\\Python-Data-Science\\.git\\objects\\49\n",
      "📁 []\n",
      "📄 ['04ed59d626f89b12853b90dd38d596ccd8112b', 'b3ce2795013ae31de8fac3031493261f8d0d62']\n",
      "---------------\n",
      "=> c:\\Users\\as350\\OneDrive\\Documents\\Python-Data-Science\\.git\\objects\\4a\n",
      "📁 []\n",
      "📄 ['17839ad237dea2f0d1e039b40a1717b231178d']\n",
      "---------------\n",
      "=> c:\\Users\\as350\\OneDrive\\Documents\\Python-Data-Science\\.git\\objects\\51\n",
      "📁 []\n",
      "📄 ['e47168244dde13ec1d5cc54445a6ed8d073c96']\n",
      "---------------\n",
      "=> c:\\Users\\as350\\OneDrive\\Documents\\Python-Data-Science\\.git\\objects\\5a\n",
      "📁 []\n",
      "📄 ['bc40069600a371e6d7ea49be41baf6ab9128d0']\n",
      "---------------\n",
      "=> c:\\Users\\as350\\OneDrive\\Documents\\Python-Data-Science\\.git\\objects\\5c\n",
      "📁 []\n",
      "📄 ['081dac8d35315601e03def5d3f4d32dab8a526']\n",
      "---------------\n",
      "=> c:\\Users\\as350\\OneDrive\\Documents\\Python-Data-Science\\.git\\objects\\5e\n",
      "📁 []\n",
      "📄 ['cee62ef483449f590f14b89e9d33ed96df27a9']\n",
      "---------------\n",
      "=> c:\\Users\\as350\\OneDrive\\Documents\\Python-Data-Science\\.git\\objects\\67\n",
      "📁 []\n",
      "📄 ['90b3b5720b8f5848b0578af3a9a3aac8437930', 'a6f21c8b9f9dbc2d63c7369929bb17b2bf50f1']\n",
      "---------------\n",
      "=> c:\\Users\\as350\\OneDrive\\Documents\\Python-Data-Science\\.git\\objects\\69\n",
      "📁 []\n",
      "📄 ['eff3c0f65901eac2e3e0edaad91517cfdde54d']\n",
      "---------------\n",
      "=> c:\\Users\\as350\\OneDrive\\Documents\\Python-Data-Science\\.git\\objects\\6b\n",
      "📁 []\n",
      "📄 ['c4b42f3c4193d1f92a7ffdd731f7aac3e33f39']\n",
      "---------------\n",
      "=> c:\\Users\\as350\\OneDrive\\Documents\\Python-Data-Science\\.git\\objects\\70\n",
      "📁 []\n",
      "📄 ['df4f180b29088633d2d29006578fcfbabb6f84']\n",
      "---------------\n",
      "=> c:\\Users\\as350\\OneDrive\\Documents\\Python-Data-Science\\.git\\objects\\71\n",
      "📁 []\n",
      "📄 ['1167cb0e529391fe77af85fd505b2a76b6f2ec']\n",
      "---------------\n",
      "=> c:\\Users\\as350\\OneDrive\\Documents\\Python-Data-Science\\.git\\objects\\72\n",
      "📁 []\n",
      "📄 ['eb49ac91402d6d939d0abf13a58e1d6f63795d']\n",
      "---------------\n",
      "=> c:\\Users\\as350\\OneDrive\\Documents\\Python-Data-Science\\.git\\objects\\79\n",
      "📁 []\n",
      "📄 ['200719265b113d8a7591909020eef3f5056a19']\n",
      "---------------\n",
      "=> c:\\Users\\as350\\OneDrive\\Documents\\Python-Data-Science\\.git\\objects\\7e\n",
      "📁 []\n",
      "📄 ['f9f9f62e14d4e4ce736f23cef5b5ba25357180']\n",
      "---------------\n",
      "=> c:\\Users\\as350\\OneDrive\\Documents\\Python-Data-Science\\.git\\objects\\80\n",
      "📁 []\n",
      "📄 ['450a187946a758372bb01c8b54d0e5266c2e9c']\n",
      "---------------\n",
      "=> c:\\Users\\as350\\OneDrive\\Documents\\Python-Data-Science\\.git\\objects\\84\n",
      "📁 []\n",
      "📄 ['bd67c634dacdb292dc072f557c0b32d6ad4947']\n",
      "---------------\n",
      "=> c:\\Users\\as350\\OneDrive\\Documents\\Python-Data-Science\\.git\\objects\\86\n",
      "📁 []\n",
      "📄 ['e1a83c41365ca4c7a86c621511bf169e01193f']\n",
      "---------------\n",
      "=> c:\\Users\\as350\\OneDrive\\Documents\\Python-Data-Science\\.git\\objects\\87\n",
      "📁 []\n",
      "📄 ['0b89afda122227b5a37b556b5cedbbb301cb9d', '7479ce725b89b2061ba1d559f13fb640d3a778']\n",
      "---------------\n",
      "=> c:\\Users\\as350\\OneDrive\\Documents\\Python-Data-Science\\.git\\objects\\8a\n",
      "📁 []\n",
      "📄 ['839f7c83474e83e463b0dd336116c7f000ca3c', 'dbd943f8f2525d8068f9b6c6cfd99974b2f824']\n",
      "---------------\n",
      "=> c:\\Users\\as350\\OneDrive\\Documents\\Python-Data-Science\\.git\\objects\\8b\n",
      "📁 []\n",
      "📄 ['0858f13ab6cd16fceae91b2f3ef258ad3d4e5e', 'f4c379d3eeee1a7c80ef576ef4643426cff39c']\n",
      "---------------\n",
      "=> c:\\Users\\as350\\OneDrive\\Documents\\Python-Data-Science\\.git\\objects\\91\n",
      "📁 []\n",
      "📄 ['af3194597e13dbebfc7678b9102c8b76874b19']\n",
      "---------------\n",
      "=> c:\\Users\\as350\\OneDrive\\Documents\\Python-Data-Science\\.git\\objects\\92\n",
      "📁 []\n",
      "📄 ['c7b482b5b48b8a578112a49bf3fd9a748b4ca3']\n",
      "---------------\n",
      "=> c:\\Users\\as350\\OneDrive\\Documents\\Python-Data-Science\\.git\\objects\\94\n",
      "📁 []\n",
      "📄 ['4eda987c88b2a9a8636a724bd4b1b9f91af2b1']\n",
      "---------------\n",
      "=> c:\\Users\\as350\\OneDrive\\Documents\\Python-Data-Science\\.git\\objects\\96\n",
      "📁 []\n",
      "📄 ['36b0a1717ce784b069c13faf82318c07829ee4']\n",
      "---------------\n",
      "=> c:\\Users\\as350\\OneDrive\\Documents\\Python-Data-Science\\.git\\objects\\98\n",
      "📁 []\n",
      "📄 ['3a8a918af02e39b3ac7eb94b16e082f28aff5d']\n",
      "---------------\n",
      "=> c:\\Users\\as350\\OneDrive\\Documents\\Python-Data-Science\\.git\\objects\\9a\n",
      "📁 []\n",
      "📄 ['a4d1bb15eccc8ec0662c687de5fc101ec660dc']\n",
      "---------------\n",
      "=> c:\\Users\\as350\\OneDrive\\Documents\\Python-Data-Science\\.git\\objects\\9c\n",
      "📁 []\n",
      "📄 ['6214e4dc91f4c33d3a8e38e79c67f7256f1cf4']\n",
      "---------------\n",
      "=> c:\\Users\\as350\\OneDrive\\Documents\\Python-Data-Science\\.git\\objects\\a2\n",
      "📁 []\n",
      "📄 ['57cd1c178a0f8275038bc4ff607a1ea252d1b1']\n",
      "---------------\n",
      "=> c:\\Users\\as350\\OneDrive\\Documents\\Python-Data-Science\\.git\\objects\\a3\n",
      "📁 []\n",
      "📄 ['24ffe18abfc61e180228698ea20c2282f6b861']\n",
      "---------------\n",
      "=> c:\\Users\\as350\\OneDrive\\Documents\\Python-Data-Science\\.git\\objects\\a4\n",
      "📁 []\n",
      "📄 ['529f36828a3ceb2a6d31fe9238fb57fc8d239e']\n",
      "---------------\n",
      "=> c:\\Users\\as350\\OneDrive\\Documents\\Python-Data-Science\\.git\\objects\\a8\n",
      "📁 []\n",
      "📄 ['c5013042ad684c1bb7cfffb27b579a18796a30']\n",
      "---------------\n",
      "=> c:\\Users\\as350\\OneDrive\\Documents\\Python-Data-Science\\.git\\objects\\aa\n",
      "📁 []\n",
      "📄 ['f35477b2fe31da6dfdff0ecf1b2c2237e083a0']\n",
      "---------------\n",
      "=> c:\\Users\\as350\\OneDrive\\Documents\\Python-Data-Science\\.git\\objects\\ab\n",
      "📁 []\n",
      "📄 ['78fcb1c0aefeb504da461a73acbae6f03f24a3', 'b58cffe9e4a10a4dfae4e44f9c422ac9b40c8d', 'd1917022d90ff862f4ec8a3352bdd9661495ba']\n",
      "---------------\n",
      "=> c:\\Users\\as350\\OneDrive\\Documents\\Python-Data-Science\\.git\\objects\\ae\n",
      "📁 []\n",
      "📄 ['e35bc548e557d0c3084af8693ac456b9e2add8']\n",
      "---------------\n",
      "=> c:\\Users\\as350\\OneDrive\\Documents\\Python-Data-Science\\.git\\objects\\b0\n",
      "📁 []\n",
      "📄 ['8e636cb441df020746b8a2fcd68699d83b51e0']\n",
      "---------------\n",
      "=> c:\\Users\\as350\\OneDrive\\Documents\\Python-Data-Science\\.git\\objects\\b3\n",
      "📁 []\n",
      "📄 ['361c5ecde4d3367acdd3dea4cf1623670d13d9']\n",
      "---------------\n",
      "=> c:\\Users\\as350\\OneDrive\\Documents\\Python-Data-Science\\.git\\objects\\b4\n",
      "📁 []\n",
      "📄 ['81abb4b5f238e9a0661fd8c202daae025b9440']\n",
      "---------------\n",
      "=> c:\\Users\\as350\\OneDrive\\Documents\\Python-Data-Science\\.git\\objects\\b6\n",
      "📁 []\n",
      "📄 ['ea95d91cc65df2e856bbd31e2f762b724d4009']\n",
      "---------------\n",
      "=> c:\\Users\\as350\\OneDrive\\Documents\\Python-Data-Science\\.git\\objects\\bb\n",
      "📁 []\n",
      "📄 ['218ee52e357373296bf8080248300504ebdafb']\n",
      "---------------\n",
      "=> c:\\Users\\as350\\OneDrive\\Documents\\Python-Data-Science\\.git\\objects\\bd\n",
      "📁 []\n",
      "📄 ['0d94ee08ab83e5fbe6d290ecbed14d45725c92']\n",
      "---------------\n",
      "=> c:\\Users\\as350\\OneDrive\\Documents\\Python-Data-Science\\.git\\objects\\be\n",
      "📁 []\n",
      "📄 ['726655a53d233da1eb34600d1c04bd1d1534d0']\n",
      "---------------\n",
      "=> c:\\Users\\as350\\OneDrive\\Documents\\Python-Data-Science\\.git\\objects\\c1\n",
      "📁 []\n",
      "📄 ['066e11305ef37f391826ff24b5ceb4644c9b98', '55223ac769c231a40bf1cf557873444a5590a5', 'd2a6dbb7c6d8b7064c77256da4b324ec500bce']\n",
      "---------------\n",
      "=> c:\\Users\\as350\\OneDrive\\Documents\\Python-Data-Science\\.git\\objects\\c2\n",
      "📁 []\n",
      "📄 ['e35f3016ea98846eb41ea8bf20cceceaf27a7e']\n",
      "---------------\n",
      "=> c:\\Users\\as350\\OneDrive\\Documents\\Python-Data-Science\\.git\\objects\\c3\n",
      "📁 []\n",
      "📄 ['79f8e8071f6df0c0b4caf20cb787da7af06900']\n",
      "---------------\n",
      "=> c:\\Users\\as350\\OneDrive\\Documents\\Python-Data-Science\\.git\\objects\\c4\n",
      "📁 []\n",
      "📄 ['d586bd169ca3406ee44a4e668f05a72769374a']\n",
      "---------------\n",
      "=> c:\\Users\\as350\\OneDrive\\Documents\\Python-Data-Science\\.git\\objects\\c5\n",
      "📁 []\n",
      "📄 ['38ece39189f72db67a9a8fbc87c00e43bd612b']\n",
      "---------------\n",
      "=> c:\\Users\\as350\\OneDrive\\Documents\\Python-Data-Science\\.git\\objects\\c9\n",
      "📁 []\n",
      "📄 ['2c5ea10944ea2476be53b368b56479e283292c', 'd70b85a32428a16d155cf76d0b6f5d57e91c4b']\n",
      "---------------\n",
      "=> c:\\Users\\as350\\OneDrive\\Documents\\Python-Data-Science\\.git\\objects\\ce\n",
      "📁 []\n",
      "📄 ['3d0d5186d39d82bb68c5cf20bd0e8ade19c6d0']\n",
      "---------------\n",
      "=> c:\\Users\\as350\\OneDrive\\Documents\\Python-Data-Science\\.git\\objects\\d0\n",
      "📁 []\n",
      "📄 ['3dda9933e191c617b7eb6d1d8e2d50231d4598', 'b555f76a6dbffbd1a0f0e3bbcacedfe714d840']\n",
      "---------------\n",
      "=> c:\\Users\\as350\\OneDrive\\Documents\\Python-Data-Science\\.git\\objects\\d1\n",
      "📁 []\n",
      "📄 ['f0fd78f504f980789fd6958b545619d67a3efa']\n",
      "---------------\n",
      "=> c:\\Users\\as350\\OneDrive\\Documents\\Python-Data-Science\\.git\\objects\\d2\n",
      "📁 []\n",
      "📄 ['85946896ff6e3bde0d72cd5f50b217d2809114']\n",
      "---------------\n",
      "=> c:\\Users\\as350\\OneDrive\\Documents\\Python-Data-Science\\.git\\objects\\d4\n",
      "📁 []\n",
      "📄 ['cf3fcba15c38bcc6a3608b69220eb79c585535']\n",
      "---------------\n",
      "=> c:\\Users\\as350\\OneDrive\\Documents\\Python-Data-Science\\.git\\objects\\da\n",
      "📁 []\n",
      "📄 ['72b3eb23ca53f20aea405efdbacbe231cce0b9']\n",
      "---------------\n",
      "=> c:\\Users\\as350\\OneDrive\\Documents\\Python-Data-Science\\.git\\objects\\e0\n",
      "📁 []\n",
      "📄 ['0f343833af80bab4755bbea59edb192187d659']\n",
      "---------------\n",
      "=> c:\\Users\\as350\\OneDrive\\Documents\\Python-Data-Science\\.git\\objects\\e7\n",
      "📁 []\n",
      "📄 ['ba2aaf5847dcf5052efea4276c2de4fc7e80d5']\n",
      "---------------\n",
      "=> c:\\Users\\as350\\OneDrive\\Documents\\Python-Data-Science\\.git\\objects\\e8\n",
      "📁 []\n",
      "📄 ['45eb26eb68d095958492751dec2f912d7d8296']\n",
      "---------------\n",
      "=> c:\\Users\\as350\\OneDrive\\Documents\\Python-Data-Science\\.git\\objects\\eb\n",
      "📁 []\n",
      "📄 ['d6a2f231ad6da3c32a1a92d7020ecbe13ba170']\n",
      "---------------\n",
      "=> c:\\Users\\as350\\OneDrive\\Documents\\Python-Data-Science\\.git\\objects\\ec\n",
      "📁 []\n",
      "📄 ['1584725249686859f1b7dce6b11bb0bcff3ee0', 'c65aaa2555bcc8b19bebeae928cfc41c106581']\n",
      "---------------\n",
      "=> c:\\Users\\as350\\OneDrive\\Documents\\Python-Data-Science\\.git\\objects\\ee\n",
      "📁 []\n",
      "📄 ['a360098e8f880150ac2dd0afd92582e62608d3', 'ad463d44f19665af316c0d08c094ba977a1b65']\n",
      "---------------\n",
      "=> c:\\Users\\as350\\OneDrive\\Documents\\Python-Data-Science\\.git\\objects\\fc\n",
      "📁 []\n",
      "📄 ['b314d329e4a913ac538f6b53dd09cb27a5da28', 'b342a9e2a42d0f782240cff318e4cb501a009c']\n",
      "---------------\n",
      "=> c:\\Users\\as350\\OneDrive\\Documents\\Python-Data-Science\\.git\\objects\\info\n",
      "📁 []\n",
      "📄 []\n",
      "---------------\n",
      "=> c:\\Users\\as350\\OneDrive\\Documents\\Python-Data-Science\\.git\\objects\\pack\n",
      "📁 []\n",
      "📄 []\n",
      "---------------\n",
      "=> c:\\Users\\as350\\OneDrive\\Documents\\Python-Data-Science\\.git\\refs\n",
      "📁 ['heads', 'remotes', 'tags']\n",
      "📄 []\n",
      "---------------\n",
      "=> c:\\Users\\as350\\OneDrive\\Documents\\Python-Data-Science\\.git\\refs\\heads\n",
      "📁 []\n",
      "📄 ['master']\n",
      "---------------\n",
      "=> c:\\Users\\as350\\OneDrive\\Documents\\Python-Data-Science\\.git\\refs\\remotes\n",
      "📁 ['origin']\n",
      "📄 []\n",
      "---------------\n",
      "=> c:\\Users\\as350\\OneDrive\\Documents\\Python-Data-Science\\.git\\refs\\remotes\\origin\n",
      "📁 []\n",
      "📄 ['master']\n",
      "---------------\n",
      "=> c:\\Users\\as350\\OneDrive\\Documents\\Python-Data-Science\\.git\\refs\\tags\n",
      "📁 []\n",
      "📄 []\n",
      "---------------\n",
      "total files: 150\n"
     ]
    }
   ],
   "source": [
    "total_files = 0\n",
    "for path, folder, files in os.walk(r\"c:\\Users\\as350\\OneDrive\\Documents\\Python-Data-Science\"):\n",
    "    print('=>',path)\n",
    "    print('📁', folder)\n",
    "    print('📄',files)\n",
    "    print('-'*15)\n",
    "    total_files+=len(files)\n",
    "print(\"total files:\", total_files)    "
   ]
  },
  {
   "cell_type": "code",
   "execution_count": 21,
   "metadata": {},
   "outputs": [
    {
     "name": "stdout",
     "output_type": "stream",
     "text": [
      "file exists\n"
     ]
    }
   ],
   "source": [
    "files = r\"c:\\Users\\as350\\OneDrive\\Documents\\Python-Data-Science\" # files exits or not\n",
    "if os.path.exists(files):\n",
    "    print('file exists')"
   ]
  },
  {
   "cell_type": "code",
   "execution_count": 25,
   "metadata": {},
   "outputs": [
    {
     "name": "stdout",
     "output_type": "stream",
     "text": [
      "file exists\n",
      "size in bytes: 8.0\n",
      "size in kilobytes: 8192.0\n",
      "size in megabytes: 8388608.0\n",
      "size in gigabytes: 8589934592.0\n",
      "size in terabytes: 8796093022208.0\n",
      "size in petabytes: 9007199254740992.0\n",
      "size in exabytes: 9.223372036854776e+18\n",
      "size in zettabytes: 9.44473296573929e+21\n",
      "size in yottabytes: 9.671406556917033e+24\n"
     ]
    }
   ],
   "source": [
    "file = r\"c:\\Users\\as350\\OneDrive\\Documents\\Python-Data-Science\"\n",
    "if os.path.exists(files):\n",
    "    print(\"file exists\")\n",
    "    size = os.path.getsize(file)\n",
    "    print('size in bytes:', size/1024)\n",
    "    print('size in kilobytes:', size/1024*1024)\n",
    "    print('size in megabytes:', size/1024*1024*1024)\n",
    "    print('size in gigabytes:', size/1024*1024*1024*1024)\n",
    "    print('size in terabytes:', size/1024*1024*1024*1024*1024)\n",
    "    print('size in petabytes:', size/1024*1024*1024*1024*1024*1024)\n",
    "    print('size in exabytes:', size/1024*1024*1024*1024*1024*1024*1024)\n",
    "    print('size in zettabytes:', size/1024*1024*1024*1024*1024*1024*1024*1024)\n",
    "    print('size in yottabytes:', size/1024*1024*1024*1024*1024*1024*1024*1024*1024)\n"
   ]
  },
  {
   "cell_type": "code",
   "execution_count": null,
   "metadata": {},
   "outputs": [],
   "source": []
  }
 ],
 "metadata": {
  "kernelspec": {
   "display_name": "base",
   "language": "python",
   "name": "python3"
  },
  "language_info": {
   "codemirror_mode": {
    "name": "ipython",
    "version": 3
   },
   "file_extension": ".py",
   "mimetype": "text/x-python",
   "name": "python",
   "nbconvert_exporter": "python",
   "pygments_lexer": "ipython3",
   "version": "3.10.9"
  },
  "orig_nbformat": 4
 },
 "nbformat": 4,
 "nbformat_minor": 2
}
