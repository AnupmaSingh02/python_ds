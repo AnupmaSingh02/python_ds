{
 "cells": [
  {
   "attachments": {},
   "cell_type": "markdown",
   "metadata": {},
   "source": [
    "Defining Function:"
   ]
  },
  {
   "cell_type": "code",
   "execution_count": 1,
   "metadata": {},
   "outputs": [],
   "source": [
    "def func():\n",
    "    print(\"Hello Function\")\n",
    "    "
   ]
  },
  {
   "attachments": {},
   "cell_type": "markdown",
   "metadata": {},
   "source": [
    "Calling Function:"
   ]
  },
  {
   "cell_type": "code",
   "execution_count": 2,
   "metadata": {},
   "outputs": [
    {
     "name": "stdout",
     "output_type": "stream",
     "text": [
      "Hello Function\n"
     ]
    }
   ],
   "source": [
    "func()"
   ]
  },
  {
   "attachments": {},
   "cell_type": "markdown",
   "metadata": {},
   "source": [
    "Python functions with Parameters:"
   ]
  },
  {
   "cell_type": "code",
   "execution_count": 7,
   "metadata": {},
   "outputs": [
    {
     "name": "stdout",
     "output_type": "stream",
     "text": [
      "sum of 20 and 40 is : 60\n"
     ]
    }
   ],
   "source": [
    "def my_func(num1,num2):\n",
    "    num3 = num1+num2\n",
    "    return num3\n",
    "num1 , num2 = 20 , 40  \n",
    "ans = my_func(num1,num2)\n",
    "print(f'sum of {num1} and {num2} is :', ans)"
   ]
  },
  {
   "attachments": {},
   "cell_type": "markdown",
   "metadata": {},
   "source": [
    "chech weather the number is prime or not:"
   ]
  },
  {
   "cell_type": "code",
   "execution_count": 17,
   "metadata": {},
   "outputs": [
    {
     "data": {
      "text/plain": [
       "True"
      ]
     },
     "execution_count": 17,
     "metadata": {},
     "output_type": "execute_result"
    }
   ],
   "source": [
    "def is_prime(n):\n",
    "    if n in [2, 3]:\n",
    "        return True\n",
    "    if (n == 1) or (n % 2 == 0):\n",
    "        return False\n",
    "    r = 3\n",
    "    while r * r <= n:\n",
    "        if n % r == 0:\n",
    "            return False\n",
    "        r += 2\n",
    "    return True\n",
    "print(is_prime(78), is_prime(79))"
   ]
  },
  {
   "attachments": {},
   "cell_type": "markdown",
   "metadata": {},
   "source": [
    "python function with arguments:"
   ]
  },
  {
   "cell_type": "code",
   "execution_count": 21,
   "metadata": {},
   "outputs": [
    {
     "name": "stdout",
     "output_type": "stream",
     "text": [
      "Even\n",
      "odd\n"
     ]
    }
   ],
   "source": [
    "# check the number is even or odd:\n",
    "\n",
    "def evenodd(n):\n",
    "    if n%2==0:\n",
    "        print(\"Even\")\n",
    "    else:\n",
    "        print(\"odd\")\n",
    "evenodd(2)\n",
    "evenodd(3)            "
   ]
  },
  {
   "attachments": {},
   "cell_type": "markdown",
   "metadata": {},
   "source": [
    "Types of Python Function Arguments:\n"
   ]
  },
  {
   "attachments": {},
   "cell_type": "markdown",
   "metadata": {},
   "source": [
    "1. Default Argument:"
   ]
  },
  {
   "cell_type": "code",
   "execution_count": 22,
   "metadata": {},
   "outputs": [
    {
     "data": {
      "text/plain": [
       "(20, 30)"
      ]
     },
     "execution_count": 22,
     "metadata": {},
     "output_type": "execute_result"
    }
   ],
   "source": [
    "def default(x , y=30):\n",
    "    return x,y\n",
    "default(20)"
   ]
  },
  {
   "attachments": {},
   "cell_type": "markdown",
   "metadata": {},
   "source": [
    "2. Keyword Argument:"
   ]
  },
  {
   "cell_type": "code",
   "execution_count": 24,
   "metadata": {},
   "outputs": [
    {
     "name": "stdout",
     "output_type": "stream",
     "text": [
      "Anupma Singh\n",
      "Anupma Singh\n",
      "Singh Anupma\n"
     ]
    }
   ],
   "source": [
    "def keyword(firstname, lastname):\n",
    "    print(firstname,lastname)\n",
    "keyword(firstname=\"Anupma\" , lastname=\"Singh\") \n",
    "keyword(lastname=\"Singh\", firstname=\"Anupma\") \n",
    "keyword(lastname=\"Anupma\" , firstname=\"Singh\")  "
   ]
  },
  {
   "attachments": {},
   "cell_type": "markdown",
   "metadata": {},
   "source": [
    "3. positional Argument:"
   ]
  },
  {
   "cell_type": "code",
   "execution_count": 27,
   "metadata": {},
   "outputs": [
    {
     "name": "stdout",
     "output_type": "stream",
     "text": [
      "Case 1:\n",
      "hi i'am Anupma\n",
      "my age is 20\n",
      "Case 2:\n",
      "hi i'am 20\n",
      "my age is Anupma\n"
     ]
    }
   ],
   "source": [
    "def name_age(name , age):\n",
    "    print(\"hi i'am\", name)\n",
    "    print(\"my age is\", age)\n",
    "\n",
    "print(\"Case 1:\")\n",
    "name_age(\"Anupma\" , 20)\n",
    "\n",
    "# You will get incorrect output because\n",
    "# argument is not in order\n",
    "print(\"Case 2:\")\n",
    "name_age(20 , \"Anupma\")"
   ]
  },
  {
   "attachments": {},
   "cell_type": "markdown",
   "metadata": {},
   "source": [
    "*args (Non-Keyword Arguments)\n",
    "\n",
    "**kwargs (Keyword Arguments)"
   ]
  },
  {
   "cell_type": "code",
   "execution_count": null,
   "metadata": {},
   "outputs": [],
   "source": []
  }
 ],
 "metadata": {
  "kernelspec": {
   "display_name": "base",
   "language": "python",
   "name": "python3"
  },
  "language_info": {
   "codemirror_mode": {
    "name": "ipython",
    "version": 3
   },
   "file_extension": ".py",
   "mimetype": "text/x-python",
   "name": "python",
   "nbconvert_exporter": "python",
   "pygments_lexer": "ipython3",
   "version": "3.10.9"
  },
  "orig_nbformat": 4
 },
 "nbformat": 4,
 "nbformat_minor": 2
}
