{
 "cells": [
  {
   "attachments": {},
   "cell_type": "markdown",
   "metadata": {},
   "source": [
    "LIST"
   ]
  },
  {
   "cell_type": "code",
   "execution_count": 2,
   "metadata": {},
   "outputs": [
    {
     "name": "stdout",
     "output_type": "stream",
     "text": [
      "['Gmail', 'Photos', 'Youtube', 'WhatsApp', 'Music', 'Google', 'Meet', 'Netflix', 'Lightroom', 'JioSaavn', 'Google pay', 'Phone pay', 'Spotify', 'Amazon Prime', 'Instagram', 'Telegram', 'Twitter', 'LinkedIn', 'Ganna', 'Phone', 'Massage', 'chrome', 'firefox']\n"
     ]
    }
   ],
   "source": [
    "apps  = [\"Gmail\" , \"Photos\" , \"Youtube\" , \"WhatsApp\" , \"Music\" ,\"Google\" , \"Meet\" , \"Netflix\" , \n",
    "        \"Lightroom\" , \"JioSaavn\" , \"Google pay\" , \"Phone pay\" , \"Spotify\" , \"Amazon Prime\" , \n",
    "        \"Instagram\" , \"Telegram\" , \"Twitter\" , \"LinkedIn\" , \"Ganna\" , \"Phone\" , \"Massage\" , \"chrome\" , \"firefox\"]\n",
    "print(apps) \n",
    "\n",
    "\n",
    "\n"
   ]
  },
  {
   "cell_type": "code",
   "execution_count": 3,
   "metadata": {},
   "outputs": [
    {
     "data": {
      "text/plain": [
       "list"
      ]
     },
     "execution_count": 3,
     "metadata": {},
     "output_type": "execute_result"
    }
   ],
   "source": [
    "type(apps)"
   ]
  },
  {
   "attachments": {},
   "cell_type": "markdown",
   "metadata": {},
   "source": [
    "len() METHOD "
   ]
  },
  {
   "cell_type": "code",
   "execution_count": 4,
   "metadata": {},
   "outputs": [
    {
     "name": "stdout",
     "output_type": "stream",
     "text": [
      "23\n"
     ]
    }
   ],
   "source": [
    "print(len(apps))"
   ]
  },
  {
   "attachments": {},
   "cell_type": "markdown",
   "metadata": {},
   "source": [
    "append() METHOD\n"
   ]
  },
  {
   "cell_type": "code",
   "execution_count": 5,
   "metadata": {},
   "outputs": [
    {
     "name": "stdout",
     "output_type": "stream",
     "text": [
      "['Gmail', 'Photos', 'Youtube', 'WhatsApp', 'Music', 'Google', 'Meet', 'Netflix', 'Lightroom', 'JioSaavn', 'Google pay', 'Phone pay', 'Spotify', 'Amazon Prime', 'Instagram', 'Telegram', 'Twitter', 'LinkedIn', 'Ganna', 'Phone', 'Massage', 'chrome', 'firefox', 'MS Word']\n",
      "24\n"
     ]
    }
   ],
   "source": [
    "apps  = [\"Gmail\" , \"Photos\" , \"Youtube\" , \"WhatsApp\" , \"Music\" ,\"Google\" , \"Meet\" , \"Netflix\" , \n",
    "        \"Lightroom\" , \"JioSaavn\" , \"Google pay\" , \"Phone pay\" , \"Spotify\" , \"Amazon Prime\" , \n",
    "        \"Instagram\" , \"Telegram\" , \"Twitter\" , \"LinkedIn\" , \"Ganna\" , \"Phone\" , \"Massage\" , \"chrome\" , \"firefox\"]\n",
    "\n",
    "apps.append(\"MS Word\")\n",
    "print(apps)\n",
    "print(len(apps))"
   ]
  },
  {
   "attachments": {},
   "cell_type": "markdown",
   "metadata": {},
   "source": [
    "insert() METHOD:\n"
   ]
  },
  {
   "cell_type": "code",
   "execution_count": 9,
   "metadata": {},
   "outputs": [
    {
     "name": "stdout",
     "output_type": "stream",
     "text": [
      "['Gmail', 'Photos', 'Paint', 'Youtube', 'WhatsApp', 'Music', 'Google', 'Meet', 'Netflix', 'Lightroom', 'JioSaavn', 'Google pay', 'Phone pay', 'Spotify', 'Amazon Prime', 'Instagram', 'Telegram', 'Twitter', 'LinkedIn', 'Ganna', 'Phone', 'Massage', 'chrome', 'firefox']\n"
     ]
    }
   ],
   "source": [
    "apps  = [\"Gmail\" , \"Photos\" , \"Youtube\" , \"WhatsApp\" , \"Music\" ,\"Google\" , \"Meet\" , \"Netflix\" , \n",
    "        \"Lightroom\" , \"JioSaavn\" , \"Google pay\" , \"Phone pay\" , \"Spotify\" , \"Amazon Prime\" , \n",
    "        \"Instagram\" , \"Telegram\" , \"Twitter\" , \"LinkedIn\" , \"Youtube\" , \"Ganna\" , \"Phone\" , \"Massage\" , \"chrome\" , \"firefox\"]\n",
    "\n",
    "apps.insert(2 , \"Paint\")\n",
    "print(apps)"
   ]
  },
  {
   "attachments": {},
   "cell_type": "markdown",
   "metadata": {},
   "source": [
    "remove() METHOD: removes the first item at the specified value.\n"
   ]
  },
  {
   "cell_type": "code",
   "execution_count": 20,
   "metadata": {},
   "outputs": [
    {
     "name": "stdout",
     "output_type": "stream",
     "text": [
      "['Gmail', 'Photos', 'WhatsApp', 'Music', 'Google', 'Meet', 'Netflix', 'Lightroom', 'JioSaavn', 'Google pay', 'Phone pay', 'Spotify', 'Amazon Prime', 'Instagram', 'Telegram', 'Twitter', 'LinkedIn', 'Youtube', 'Ganna', 'Phone', 'Massage', 'chrome', 'firefox']\n"
     ]
    }
   ],
   "source": [
    "apps  = [\"Gmail\" , \"Photos\" , \"Youtube\" , \"WhatsApp\" , \"Music\" ,\"Google\" , \"Meet\" , \"Netflix\" , \n",
    "        \"Lightroom\" , \"JioSaavn\" , \"Google pay\" , \"Phone pay\" , \"Spotify\" , \"Amazon Prime\" , \n",
    "        \"Instagram\" , \"Telegram\" , \"Twitter\" , \"LinkedIn\" , \"Youtube\" , \"Ganna\" , \"Phone\" , \"Massage\" , \"chrome\" , \"firefox\"]\n",
    "\n",
    "apps.remove(\"Youtube\")\n",
    "print(apps)"
   ]
  },
  {
   "attachments": {},
   "cell_type": "markdown",
   "metadata": {},
   "source": [
    "pop() METHOD: removes the element at the specified position.\n"
   ]
  },
  {
   "cell_type": "code",
   "execution_count": 23,
   "metadata": {},
   "outputs": [
    {
     "name": "stdout",
     "output_type": "stream",
     "text": [
      "['Gmail', 'Photos', 'WhatsApp', 'Music', 'Meet', 'Netflix', 'Lightroom', 'JioSaavn', 'Google pay', 'Phone pay', 'Spotify', 'Amazon Prime', 'Instagram', 'Telegram', 'Twitter', 'LinkedIn', 'Youtube', 'Ganna', 'Phone', 'Massage', 'chrome', 'firefox']\n"
     ]
    }
   ],
   "source": [
    "apps.pop(4)\n",
    "print(apps)"
   ]
  },
  {
   "attachments": {},
   "cell_type": "markdown",
   "metadata": {},
   "source": [
    "clear() METHOD: removes all the element from the list.\n"
   ]
  },
  {
   "cell_type": "code",
   "execution_count": 24,
   "metadata": {},
   "outputs": [
    {
     "name": "stdout",
     "output_type": "stream",
     "text": [
      "[]\n"
     ]
    }
   ],
   "source": [
    "apps.clear()\n",
    "print(apps)"
   ]
  },
  {
   "attachments": {},
   "cell_type": "markdown",
   "metadata": {},
   "source": [
    "reverse() METHOD: reverse the order of the list."
   ]
  },
  {
   "cell_type": "code",
   "execution_count": 25,
   "metadata": {},
   "outputs": [
    {
     "name": "stdout",
     "output_type": "stream",
     "text": [
      "['firefox', 'chrome', 'Massage', 'Phone', 'Ganna', 'LinkedIn', 'Twitter', 'Telegram', 'Instagram', 'Amazon Prime', 'Spotify', 'Phone pay', 'Google pay', 'JioSaavn', 'Lightroom', 'Netflix', 'Meet', 'Google', 'Music', 'WhatsApp', 'Youtube', 'Photos', 'Gmail']\n"
     ]
    }
   ],
   "source": [
    "apps  = [\"Gmail\" , \"Photos\" , \"Youtube\" , \"WhatsApp\" , \"Music\" ,\"Google\" , \"Meet\" , \"Netflix\" , \n",
    "        \"Lightroom\" , \"JioSaavn\" , \"Google pay\" , \"Phone pay\" , \"Spotify\" , \"Amazon Prime\" , \n",
    "        \"Instagram\" , \"Telegram\" , \"Twitter\" , \"LinkedIn\" , \"Ganna\" , \"Phone\" , \"Massage\" , \"chrome\" , \"firefox\"]\n",
    "apps.reverse()\n",
    "print(apps)"
   ]
  },
  {
   "attachments": {},
   "cell_type": "markdown",
   "metadata": {},
   "source": [
    "copy() METHOD: returns the copy of the list.\n"
   ]
  },
  {
   "cell_type": "code",
   "execution_count": 26,
   "metadata": {},
   "outputs": [
    {
     "name": "stdout",
     "output_type": "stream",
     "text": [
      "['firefox', 'chrome', 'Massage', 'Phone', 'Ganna', 'LinkedIn', 'Twitter', 'Telegram', 'Instagram', 'Amazon Prime', 'Spotify', 'Phone pay', 'Google pay', 'JioSaavn', 'Lightroom', 'Netflix', 'Meet', 'Google', 'Music', 'WhatsApp', 'Youtube', 'Photos', 'Gmail']\n"
     ]
    }
   ],
   "source": [
    "apps.copy()\n",
    "print(apps)"
   ]
  },
  {
   "attachments": {},
   "cell_type": "markdown",
   "metadata": {},
   "source": [
    "sort() METHOD:"
   ]
  },
  {
   "cell_type": "code",
   "execution_count": 27,
   "metadata": {},
   "outputs": [
    {
     "name": "stdout",
     "output_type": "stream",
     "text": [
      "['Amazon Prime', 'Ganna', 'Gmail', 'Google', 'Google pay', 'Instagram', 'JioSaavn', 'Lightroom', 'LinkedIn', 'Massage', 'Meet', 'Music', 'Netflix', 'Phone', 'Phone pay', 'Photos', 'Spotify', 'Telegram', 'Twitter', 'WhatsApp', 'Youtube', 'chrome', 'firefox']\n"
     ]
    }
   ],
   "source": [
    "apps.sort()\n",
    "print(apps)"
   ]
  },
  {
   "attachments": {},
   "cell_type": "markdown",
   "metadata": {},
   "source": [
    "extend() METHOD:"
   ]
  },
  {
   "cell_type": "code",
   "execution_count": 32,
   "metadata": {},
   "outputs": [
    {
     "name": "stdout",
     "output_type": "stream",
     "text": [
      "['Gmail', 'Photos', 'Youtube', 'WhatsApp', 'Music', 'Google', 'Meet', 'Netflix', 'Lightroom', 'Spotify', 'Amazon Prime', 'Instagram', 'Telegram', 'Twitter', 'LinkedIn', 'Ganna', 'Phone', 'Massage', 'chrome', 'firefox']\n"
     ]
    }
   ],
   "source": [
    "apps1 = [\"Gmail\" , \"Photos\" , \"Youtube\" , \"WhatsApp\" , \"Music\" ,\"Google\" , \"Meet\" , \"Netflix\" , \"Lightroom\" ]\n",
    "         \n",
    "apps2 =[ \"Spotify\" , \"Amazon Prime\" , \"Instagram\" , \"Telegram\" , \"Twitter\" , \"LinkedIn\" ,\n",
    "         \"Ganna\" , \"Phone\" , \"Massage\" , \"chrome\" , \"firefox\"]\n",
    "\n",
    "apps1.extend(apps2)\n",
    "print(apps1)\n"
   ]
  },
  {
   "attachments": {},
   "cell_type": "markdown",
   "metadata": {},
   "source": [
    "count() METHOD:\n"
   ]
  },
  {
   "cell_type": "code",
   "execution_count": 36,
   "metadata": {},
   "outputs": [
    {
     "name": "stdout",
     "output_type": "stream",
     "text": [
      "1\n"
     ]
    }
   ],
   "source": [
    "apps = [ \"Instagram\" , \"Telegram\" , \"Twitter\" , \"LinkedIn\" , \"Ganna\" , \"Phone\" , \"Massage\" , \"chrome\" , \"firefox\"]\n",
    "x = apps.count(\"Telegram\")\n",
    "print(x)\n"
   ]
  },
  {
   "attachments": {},
   "cell_type": "markdown",
   "metadata": {},
   "source": [
    "SUM() FUNCTION:"
   ]
  },
  {
   "cell_type": "code",
   "execution_count": 37,
   "metadata": {},
   "outputs": [
    {
     "name": "stdout",
     "output_type": "stream",
     "text": [
      "15\n"
     ]
    }
   ],
   "source": [
    "my_list = [1 , 2, 3, 4 , 5]\n",
    "list_sum = sum(my_list)\n",
    "print(list_sum)"
   ]
  },
  {
   "attachments": {},
   "cell_type": "markdown",
   "metadata": {},
   "source": [
    "MAX() FUNCTION:"
   ]
  },
  {
   "cell_type": "code",
   "execution_count": 39,
   "metadata": {},
   "outputs": [
    {
     "name": "stdout",
     "output_type": "stream",
     "text": [
      "5\n"
     ]
    }
   ],
   "source": [
    "list_max = max(my_list)\n",
    "print(list_max)"
   ]
  },
  {
   "attachments": {},
   "cell_type": "markdown",
   "metadata": {},
   "source": [
    "MIN() FUNCTION:"
   ]
  },
  {
   "cell_type": "code",
   "execution_count": 41,
   "metadata": {},
   "outputs": [
    {
     "name": "stdout",
     "output_type": "stream",
     "text": [
      "1\n"
     ]
    }
   ],
   "source": [
    "list_min = min(my_list)\n",
    "print(list_min)"
   ]
  },
  {
   "cell_type": "code",
   "execution_count": null,
   "metadata": {},
   "outputs": [],
   "source": []
  }
 ],
 "metadata": {
  "kernelspec": {
   "display_name": "base",
   "language": "python",
   "name": "python3"
  },
  "language_info": {
   "codemirror_mode": {
    "name": "ipython",
    "version": 3
   },
   "file_extension": ".py",
   "mimetype": "text/x-python",
   "name": "python",
   "nbconvert_exporter": "python",
   "pygments_lexer": "ipython3",
   "version": "3.10.9"
  },
  "orig_nbformat": 4
 },
 "nbformat": 4,
 "nbformat_minor": 2
}
