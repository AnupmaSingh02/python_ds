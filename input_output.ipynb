{
 "cells": [
  {
   "cell_type": "code",
   "execution_count": 3,
   "metadata": {},
   "outputs": [
    {
     "name": "stdout",
     "output_type": "stream",
     "text": [
      "Anupma\n",
      "20\n",
      "NSBVM\n"
     ]
    }
   ],
   "source": [
    "# Input Function \n",
    "name = input (\"Enter Your Name\")\n",
    "age = input (\"Enter Your Age\")\n",
    "School = input (\"Enter Your School name\")\n",
    "\n",
    "\n",
    "print(name)\n",
    "print(age)\n",
    "print(School)\n",
    "# the value returned from input() Function is always String data Type.\n"
   ]
  }
 ],
 "metadata": {
  "kernelspec": {
   "display_name": "base",
   "language": "python",
   "name": "python3"
  },
  "language_info": {
   "codemirror_mode": {
    "name": "ipython",
    "version": 3
   },
   "file_extension": ".py",
   "mimetype": "text/x-python",
   "name": "python",
   "nbconvert_exporter": "python",
   "pygments_lexer": "ipython3",
   "version": "3.10.9"
  },
  "orig_nbformat": 4
 },
 "nbformat": 4,
 "nbformat_minor": 2
}
