{
 "cells": [
  {
   "cell_type": "code",
   "execution_count": 2,
   "metadata": {},
   "outputs": [],
   "source": [
    "import pandas as pd\n",
    "import numpy as np\n",
    "import matplotlib.pyplot as plt\n",
    "import seaborn as sns\n"
   ]
  },
  {
   "cell_type": "code",
   "execution_count": 3,
   "metadata": {},
   "outputs": [
    {
     "data": {
      "text/html": [
       "<div>\n",
       "<style scoped>\n",
       "    .dataframe tbody tr th:only-of-type {\n",
       "        vertical-align: middle;\n",
       "    }\n",
       "\n",
       "    .dataframe tbody tr th {\n",
       "        vertical-align: top;\n",
       "    }\n",
       "\n",
       "    .dataframe thead th {\n",
       "        text-align: right;\n",
       "    }\n",
       "</style>\n",
       "<table border=\"1\" class=\"dataframe\">\n",
       "  <thead>\n",
       "    <tr style=\"text-align: right;\">\n",
       "      <th></th>\n",
       "      <th>title</th>\n",
       "      <th>price</th>\n",
       "      <th>rating</th>\n",
       "    </tr>\n",
       "  </thead>\n",
       "  <tbody>\n",
       "    <tr>\n",
       "      <th>0</th>\n",
       "      <td>HP 15s, AMD Ryzen 3 5300U, 15.6 inch(39.6cm) F...</td>\n",
       "      <td>39,990</td>\n",
       "      <td>NaN</td>\n",
       "    </tr>\n",
       "    <tr>\n",
       "      <th>1</th>\n",
       "      <td>Dell Vostro 3420 Laptop,12th Gen Intel Core i3...</td>\n",
       "      <td>41,990</td>\n",
       "      <td>NaN</td>\n",
       "    </tr>\n",
       "    <tr>\n",
       "      <th>2</th>\n",
       "      <td>Honor MagicBook 14, AMD Ryzen 5 5500U 14-inch ...</td>\n",
       "      <td>44,490</td>\n",
       "      <td>4.4 out of 5 stars</td>\n",
       "    </tr>\n",
       "    <tr>\n",
       "      <th>3</th>\n",
       "      <td>HP 255 G8 Laptop with AMD Athlon Silver 3050U ...</td>\n",
       "      <td>26,999</td>\n",
       "      <td>NaN</td>\n",
       "    </tr>\n",
       "    <tr>\n",
       "      <th>4</th>\n",
       "      <td>Lenovo IdeaPad Slim 3 Intel Core i3-1115G4 11t...</td>\n",
       "      <td>33,639</td>\n",
       "      <td>NaN</td>\n",
       "    </tr>\n",
       "    <tr>\n",
       "      <th>...</th>\n",
       "      <td>...</td>\n",
       "      <td>...</td>\n",
       "      <td>...</td>\n",
       "    </tr>\n",
       "    <tr>\n",
       "      <th>334</th>\n",
       "      <td>Dell Inspiron 3525 Laptop, AMD Ryzen R3-5425U,...</td>\n",
       "      <td>39,990</td>\n",
       "      <td>NaN</td>\n",
       "    </tr>\n",
       "    <tr>\n",
       "      <th>335</th>\n",
       "      <td>(Renewed) DELL Latitude 5490 Core i5 8th Gen L...</td>\n",
       "      <td>26,615</td>\n",
       "      <td>NaN</td>\n",
       "    </tr>\n",
       "    <tr>\n",
       "      <th>336</th>\n",
       "      <td>ASUS Vivobook S 14 Flip (2023), AMD Ryzen 5 75...</td>\n",
       "      <td>68,990</td>\n",
       "      <td>NaN</td>\n",
       "    </tr>\n",
       "    <tr>\n",
       "      <th>337</th>\n",
       "      <td>Xiaomi NoteBook Pro 120 12th Gen Intel i5-1245...</td>\n",
       "      <td>64,999</td>\n",
       "      <td>NaN</td>\n",
       "    </tr>\n",
       "    <tr>\n",
       "      <th>338</th>\n",
       "      <td>ASUS Vivobook 14, Intel Core i7-1165G7 11th Ge...</td>\n",
       "      <td>56,990</td>\n",
       "      <td>NaN</td>\n",
       "    </tr>\n",
       "  </tbody>\n",
       "</table>\n",
       "<p>339 rows × 3 columns</p>\n",
       "</div>"
      ],
      "text/plain": [
       "                                                 title   price   \n",
       "0    HP 15s, AMD Ryzen 3 5300U, 15.6 inch(39.6cm) F...  39,990  \\\n",
       "1    Dell Vostro 3420 Laptop,12th Gen Intel Core i3...  41,990   \n",
       "2    Honor MagicBook 14, AMD Ryzen 5 5500U 14-inch ...  44,490   \n",
       "3    HP 255 G8 Laptop with AMD Athlon Silver 3050U ...  26,999   \n",
       "4    Lenovo IdeaPad Slim 3 Intel Core i3-1115G4 11t...  33,639   \n",
       "..                                                 ...     ...   \n",
       "334  Dell Inspiron 3525 Laptop, AMD Ryzen R3-5425U,...  39,990   \n",
       "335  (Renewed) DELL Latitude 5490 Core i5 8th Gen L...  26,615   \n",
       "336  ASUS Vivobook S 14 Flip (2023), AMD Ryzen 5 75...  68,990   \n",
       "337  Xiaomi NoteBook Pro 120 12th Gen Intel i5-1245...  64,999   \n",
       "338  ASUS Vivobook 14, Intel Core i7-1165G7 11th Ge...  56,990   \n",
       "\n",
       "                 rating  \n",
       "0                   NaN  \n",
       "1                   NaN  \n",
       "2    4.4 out of 5 stars  \n",
       "3                   NaN  \n",
       "4                   NaN  \n",
       "..                  ...  \n",
       "334                 NaN  \n",
       "335                 NaN  \n",
       "336                 NaN  \n",
       "337                 NaN  \n",
       "338                 NaN  \n",
       "\n",
       "[339 rows x 3 columns]"
      ]
     },
     "execution_count": 3,
     "metadata": {},
     "output_type": "execute_result"
    }
   ],
   "source": [
    "df = pd.read_csv('laptops.csv')\n",
    "df"
   ]
  },
  {
   "cell_type": "code",
   "execution_count": 4,
   "metadata": {},
   "outputs": [
    {
     "name": "stdout",
     "output_type": "stream",
     "text": [
      "<class 'pandas.core.frame.DataFrame'>\n",
      "RangeIndex: 339 entries, 0 to 338\n",
      "Data columns (total 3 columns):\n",
      " #   Column  Non-Null Count  Dtype \n",
      "---  ------  --------------  ----- \n",
      " 0   title   339 non-null    object\n",
      " 1   price   331 non-null    object\n",
      " 2   rating  24 non-null     object\n",
      "dtypes: object(3)\n",
      "memory usage: 8.1+ KB\n"
     ]
    }
   ],
   "source": [
    "df.info()"
   ]
  },
  {
   "cell_type": "code",
   "execution_count": 5,
   "metadata": {},
   "outputs": [
    {
     "name": "stdout",
     "output_type": "stream",
     "text": [
      "['title', 'price', 'rating']\n"
     ]
    }
   ],
   "source": [
    "print(df.columns.to_list())"
   ]
  },
  {
   "attachments": {},
   "cell_type": "markdown",
   "metadata": {},
   "source": [
    "cleaning:"
   ]
  },
  {
   "cell_type": "code",
   "execution_count": 6,
   "metadata": {},
   "outputs": [],
   "source": [
    "def clean_price_col(price):\n",
    "    if isinstance(price,str):\n",
    "        price = price.replace(',','')\n",
    "        price = price.strip()\n",
    "        if price.isnumeric():\n",
    "           price = int(price)\n",
    "           return price\n",
    "        if len(price)==0:\n",
    "           return np.nan\n",
    "    return price"
   ]
  },
  {
   "cell_type": "code",
   "execution_count": 7,
   "metadata": {},
   "outputs": [
    {
     "data": {
      "text/plain": [
       "1999"
      ]
     },
     "execution_count": 7,
     "metadata": {},
     "output_type": "execute_result"
    }
   ],
   "source": [
    "clean_price_col('1,999')"
   ]
  },
  {
   "cell_type": "code",
   "execution_count": 8,
   "metadata": {},
   "outputs": [],
   "source": [
    "df['cleaned_price']=df['price'].apply(clean_price_col)"
   ]
  },
  {
   "cell_type": "code",
   "execution_count": 14,
   "metadata": {},
   "outputs": [],
   "source": [
    "def clean_rating_column(rating):\n",
    "    if isinstance(rating,str):\n",
    "        rating= rating.split()[0]\n",
    "        return float(rating)\n",
    "    return rating"
   ]
  },
  {
   "cell_type": "code",
   "execution_count": 15,
   "metadata": {},
   "outputs": [],
   "source": [
    "df['cleaned_rating']=df['rating'].apply(clean_rating_column)"
   ]
  },
  {
   "cell_type": "code",
   "execution_count": 28,
   "metadata": {},
   "outputs": [],
   "source": [
    "df.sort_values(by='cleaned_price',ascending=False,inplace=True)"
   ]
  },
  {
   "cell_type": "code",
   "execution_count": 19,
   "metadata": {},
   "outputs": [],
   "source": [
    "df.drop(columns=['price','rating'],inplace=True)"
   ]
  },
  {
   "cell_type": "code",
   "execution_count": 22,
   "metadata": {},
   "outputs": [
    {
     "data": {
      "text/html": [
       "<div>\n",
       "<style scoped>\n",
       "    .dataframe tbody tr th:only-of-type {\n",
       "        vertical-align: middle;\n",
       "    }\n",
       "\n",
       "    .dataframe tbody tr th {\n",
       "        vertical-align: top;\n",
       "    }\n",
       "\n",
       "    .dataframe thead th {\n",
       "        text-align: right;\n",
       "    }\n",
       "</style>\n",
       "<table border=\"1\" class=\"dataframe\">\n",
       "  <thead>\n",
       "    <tr style=\"text-align: right;\">\n",
       "      <th></th>\n",
       "      <th>title</th>\n",
       "      <th>cleaned_price</th>\n",
       "      <th>cleaned_rating</th>\n",
       "    </tr>\n",
       "  </thead>\n",
       "  <tbody>\n",
       "    <tr>\n",
       "      <th>160</th>\n",
       "      <td>ASUS TUF Gaming A15, 15.6\" (39.62 cm) FHD 144H...</td>\n",
       "      <td>98000.0</td>\n",
       "      <td>4.3</td>\n",
       "    </tr>\n",
       "    <tr>\n",
       "      <th>104</th>\n",
       "      <td>ASUS TUF Gaming A15, 15.6\" (39.62 cm) FHD 144H...</td>\n",
       "      <td>98000.0</td>\n",
       "      <td>4.3</td>\n",
       "    </tr>\n",
       "    <tr>\n",
       "      <th>129</th>\n",
       "      <td>ASUS TUF Gaming A15, 15.6\" (39.62 cm) FHD 144H...</td>\n",
       "      <td>98000.0</td>\n",
       "      <td>4.3</td>\n",
       "    </tr>\n",
       "    <tr>\n",
       "      <th>179</th>\n",
       "      <td>Samsung Galaxy Book2 360 Intel 12th Gen i7 Evo...</td>\n",
       "      <td>97990.0</td>\n",
       "      <td>4.3</td>\n",
       "    </tr>\n",
       "    <tr>\n",
       "      <th>79</th>\n",
       "      <td>ASUS ROG Strix G17, 17.3-inch (43.94 cms) FHD ...</td>\n",
       "      <td>90990.0</td>\n",
       "      <td>4.5</td>\n",
       "    </tr>\n",
       "    <tr>\n",
       "      <th>...</th>\n",
       "      <td>...</td>\n",
       "      <td>...</td>\n",
       "      <td>...</td>\n",
       "    </tr>\n",
       "    <tr>\n",
       "      <th>191</th>\n",
       "      <td>(renewed) Latitude D620 core 2 Duo Laptop/4 gb...</td>\n",
       "      <td>NaN</td>\n",
       "      <td>NaN</td>\n",
       "    </tr>\n",
       "    <tr>\n",
       "      <th>239</th>\n",
       "      <td>Lenovo IdeaPad Slim 3 Intel Core i3 11th Gen 1...</td>\n",
       "      <td>NaN</td>\n",
       "      <td>NaN</td>\n",
       "    </tr>\n",
       "    <tr>\n",
       "      <th>276</th>\n",
       "      <td>(Renewed) Lenovo IdeaPad 3 11th Gen Intel Core...</td>\n",
       "      <td>NaN</td>\n",
       "      <td>NaN</td>\n",
       "    </tr>\n",
       "    <tr>\n",
       "      <th>301</th>\n",
       "      <td>Dell Inspiron 3525 Laptop, AMD Athlon Silver 3...</td>\n",
       "      <td>NaN</td>\n",
       "      <td>NaN</td>\n",
       "    </tr>\n",
       "    <tr>\n",
       "      <th>314</th>\n",
       "      <td>(Renewed) Dell Latitude Laptop E5470 Intel Cor...</td>\n",
       "      <td>NaN</td>\n",
       "      <td>NaN</td>\n",
       "    </tr>\n",
       "  </tbody>\n",
       "</table>\n",
       "<p>339 rows × 3 columns</p>\n",
       "</div>"
      ],
      "text/plain": [
       "                                                 title  cleaned_price   \n",
       "160  ASUS TUF Gaming A15, 15.6\" (39.62 cm) FHD 144H...        98000.0  \\\n",
       "104  ASUS TUF Gaming A15, 15.6\" (39.62 cm) FHD 144H...        98000.0   \n",
       "129  ASUS TUF Gaming A15, 15.6\" (39.62 cm) FHD 144H...        98000.0   \n",
       "179  Samsung Galaxy Book2 360 Intel 12th Gen i7 Evo...        97990.0   \n",
       "79   ASUS ROG Strix G17, 17.3-inch (43.94 cms) FHD ...        90990.0   \n",
       "..                                                 ...            ...   \n",
       "191  (renewed) Latitude D620 core 2 Duo Laptop/4 gb...            NaN   \n",
       "239  Lenovo IdeaPad Slim 3 Intel Core i3 11th Gen 1...            NaN   \n",
       "276  (Renewed) Lenovo IdeaPad 3 11th Gen Intel Core...            NaN   \n",
       "301  Dell Inspiron 3525 Laptop, AMD Athlon Silver 3...            NaN   \n",
       "314  (Renewed) Dell Latitude Laptop E5470 Intel Cor...            NaN   \n",
       "\n",
       "     cleaned_rating  \n",
       "160             4.3  \n",
       "104             4.3  \n",
       "129             4.3  \n",
       "179             4.3  \n",
       "79              4.5  \n",
       "..              ...  \n",
       "191             NaN  \n",
       "239             NaN  \n",
       "276             NaN  \n",
       "301             NaN  \n",
       "314             NaN  \n",
       "\n",
       "[339 rows x 3 columns]"
      ]
     },
     "execution_count": 22,
     "metadata": {},
     "output_type": "execute_result"
    }
   ],
   "source": [
    "df"
   ]
  },
  {
   "cell_type": "code",
   "execution_count": null,
   "metadata": {},
   "outputs": [],
   "source": []
  }
 ],
 "metadata": {
  "kernelspec": {
   "display_name": "base",
   "language": "python",
   "name": "python3"
  },
  "language_info": {
   "codemirror_mode": {
    "name": "ipython",
    "version": 3
   },
   "file_extension": ".py",
   "mimetype": "text/x-python",
   "name": "python",
   "nbconvert_exporter": "python",
   "pygments_lexer": "ipython3",
   "version": "3.10.9"
  },
  "orig_nbformat": 4
 },
 "nbformat": 4,
 "nbformat_minor": 2
}
