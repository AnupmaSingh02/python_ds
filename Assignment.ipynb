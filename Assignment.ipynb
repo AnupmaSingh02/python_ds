{
 "cells": [
  {
   "cell_type": "code",
   "execution_count": 1,
   "metadata": {},
   "outputs": [
    {
     "name": "stdout",
     "output_type": "stream",
     "text": [
      "True\n"
     ]
    }
   ],
   "source": [
    "                                             # OPERATORS\n",
    "\n",
    "\n",
    "# 01)\n",
    "\n",
    "x = 4 \n",
    "y = 5 \n",
    "z = x < y \n",
    "print(z)"
   ]
  },
  {
   "cell_type": "code",
   "execution_count": 2,
   "metadata": {},
   "outputs": [
    {
     "name": "stdout",
     "output_type": "stream",
     "text": [
      "HelloWorld\n"
     ]
    }
   ],
   "source": [
    "# 02)\n",
    "\n",
    "x = \"Hello\"\n",
    "y = \"World\"\n",
    "z = x + y \n",
    "print(z)"
   ]
  },
  {
   "cell_type": "code",
   "execution_count": 2,
   "metadata": {},
   "outputs": [
    {
     "name": "stdout",
     "output_type": "stream",
     "text": [
      "10\n"
     ]
    }
   ],
   "source": [
    "# 04)\n",
    "user = input(\"Enter a number\")\n",
    "var = user\n",
    "print(var)\n"
   ]
  },
  {
   "cell_type": "code",
   "execution_count": 3,
   "metadata": {},
   "outputs": [
    {
     "name": "stdout",
     "output_type": "stream",
     "text": [
      "<class 'str'>\n"
     ]
    }
   ],
   "source": [
    "# 05)\n",
    "a = 'Annu'\n",
    "print(type(a))"
   ]
  },
  {
   "cell_type": "code",
   "execution_count": 1,
   "metadata": {},
   "outputs": [
    {
     "name": "stdout",
     "output_type": "stream",
     "text": [
      "3.072316825685847\n"
     ]
    }
   ],
   "source": [
    "# 06) program to find a cube root of 29\n",
    "num = 29\n",
    "print(num**(1/3))\n",
    "\n"
   ]
  },
  {
   "cell_type": "code",
   "execution_count": 9,
   "metadata": {},
   "outputs": [
    {
     "name": "stdout",
     "output_type": "stream",
     "text": [
      "False\n",
      "True\n",
      "True\n"
     ]
    }
   ],
   "source": [
    "#  07) Program to perform logical operation using \"and\",  \"or\",  \"not\" operators. \n",
    "\n",
    "a = 12\n",
    "b = 3\n",
    "c = 5\n",
    "print(a>b and b>c)\n",
    "print(a>b or a<c)\n",
    "print( not a == b )\n"
   ]
  },
  {
   "cell_type": "code",
   "execution_count": 13,
   "metadata": {},
   "outputs": [
    {
     "name": "stdout",
     "output_type": "stream",
     "text": [
      "False\n",
      "True\n",
      "True\n",
      "False\n"
     ]
    }
   ],
   "source": [
    "\n",
    "# 08) Program to perfrom indentity operation. IS , IS NOT\n",
    "\n",
    "x = 12\n",
    "y = 21\n",
    "print(x is y)\n",
    "print(x is not y)\n",
    "\n",
    "\n",
    "i = 20\n",
    "j = 20\n",
    "print(i is j)\n",
    "print(i is not j)"
   ]
  },
  {
   "cell_type": "code",
   "execution_count": 11,
   "metadata": {},
   "outputs": [
    {
     "name": "stdout",
     "output_type": "stream",
     "text": [
      "15\n"
     ]
    }
   ],
   "source": [
    "# 10) \n",
    "x = 5\n",
    "x *= 3\n",
    "print(x)"
   ]
  },
  {
   "cell_type": "code",
   "execution_count": 8,
   "metadata": {},
   "outputs": [
    {
     "name": "stdout",
     "output_type": "stream",
     "text": [
      "<class 'str'>\n",
      "<class 'int'>\n",
      "<class 'float'>\n",
      "<class 'bool'>\n",
      "<class 'list'>\n",
      "<class 'set'>\n",
      "<class 'tuple'>\n",
      "<class 'dict'>\n"
     ]
    }
   ],
   "source": [
    "                                   # DATA TYPE \n",
    "# 1.  How do you check the datatype of a variable in python.\n",
    "\n",
    "a = \"Anupma\"\n",
    "print(type(a))\n",
    "b = 20\n",
    "print(type(b))\n",
    "c = 12.6\n",
    "print(type(c))\n",
    "d = 4>5\n",
    "print(type(d))\n",
    "\n",
    "e = [1 , 2, 3 , 4]\n",
    "print(type(e))\n",
    "f = {\"anu\" , 20 }\n",
    "print(type(f))\n",
    "g = (1 , 12 , 13 , 13, 14 , 11)\n",
    "print(type(g))\n",
    "car_info ={\n",
    "           \"brand\":\"Ford\",\n",
    "          \"model\":\"Mustang\",\n",
    "             \"year\":1964\n",
    "    }\n",
    "print(type(car_info))"
   ]
  },
  {
   "cell_type": "code",
   "execution_count": null,
   "metadata": {},
   "outputs": [],
   "source": [
    "# what is the default datatype of a variable in python.\n",
    "\n"
   ]
  },
  {
   "cell_type": "code",
   "execution_count": 11,
   "metadata": {},
   "outputs": [
    {
     "name": "stdout",
     "output_type": "stream",
     "text": [
      "HelloWorld\n",
      "Helloworld\n",
      "HelloWorld\n",
      "Helloworld\n"
     ]
    }
   ],
   "source": [
    "# different ways of declaring a string:\n",
    "mystring = \"HelloWorld\"\n",
    "print(mystring)\n",
    "\n",
    "mystring1 = 'Helloworld'\n",
    "print(mystring1)\n",
    "\n",
    "mystring2 = \"\"\"HelloWorld\"\"\"\n",
    "print(mystring2)\n",
    "\n",
    "mystring3 = '''Helloworld'''\n",
    "print(mystring3)\n"
   ]
  },
  {
   "cell_type": "code",
   "execution_count": 13,
   "metadata": {},
   "outputs": [
    {
     "data": {
      "text/plain": [
       "'a = 5+\"2\"\\nprint(a) '"
      ]
     },
     "execution_count": 13,
     "metadata": {},
     "output_type": "execute_result"
    }
   ],
   "source": [
    "'''a = 5+\"2\"\n",
    "print(a) '''\n",
    "\n",
    "# output = TYPE ERROR\n"
   ]
  },
  {
   "cell_type": "code",
   "execution_count": 23,
   "metadata": {},
   "outputs": [
    {
     "name": "stdout",
     "output_type": "stream",
     "text": [
      "Anupma\n",
      "9\n",
      "20\n"
     ]
    }
   ],
   "source": [
    "# TYPECASTING\n",
    "\n",
    "# Program to convert a string into an integer.\n",
    "\n",
    "\n",
    "x = 10\n",
    "x = \"Anupma\"\n",
    "print(x)\n",
    "\n",
    "x = str(9)\n",
    "print(x)\n",
    "\n",
    "x = int(20.3)\n",
    "print(x)"
   ]
  },
  {
   "cell_type": "code",
   "execution_count": null,
   "metadata": {},
   "outputs": [],
   "source": []
  }
 ],
 "metadata": {
  "kernelspec": {
   "display_name": "base",
   "language": "python",
   "name": "python3"
  },
  "language_info": {
   "codemirror_mode": {
    "name": "ipython",
    "version": 3
   },
   "file_extension": ".py",
   "mimetype": "text/x-python",
   "name": "python",
   "nbconvert_exporter": "python",
   "pygments_lexer": "ipython3",
   "version": "3.10.9"
  },
  "orig_nbformat": 4
 },
 "nbformat": 4,
 "nbformat_minor": 2
}
