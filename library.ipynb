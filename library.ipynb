{
 "cells": [
  {
   "cell_type": "code",
   "execution_count": 1,
   "metadata": {},
   "outputs": [],
   "source": [
    "import math"
   ]
  },
  {
   "cell_type": "code",
   "execution_count": 5,
   "metadata": {},
   "outputs": [
    {
     "name": "stdout",
     "output_type": "stream",
     "text": [
      "5.0\n",
      "3.141592653589793\n",
      "1307674368000\n",
      "2.0\n",
      "6.643856189774725\n"
     ]
    }
   ],
   "source": [
    "print(math.sqrt(25))\n",
    "print(math.pi)\n",
    "print(math.factorial(15))\n",
    "print(math.log(100,10))\n",
    "print(math.log(100,2))"
   ]
  },
  {
   "cell_type": "code",
   "execution_count": 16,
   "metadata": {},
   "outputs": [
    {
     "name": "stdout",
     "output_type": "stream",
     "text": [
      "get a number between 0 and 1:  0.6280960887518499\n",
      "get a random integer between 50 and 100 :  55\n",
      "get a random item : win\n",
      "shuffle a list : ['Jane', 'Joe', 'Jill', 'Jack', 'John']\n"
     ]
    }
   ],
   "source": [
    "from random import random, randint, choice, shuffle\n",
    "print('get a number between 0 and 1: ', random())\n",
    "print('get a random integer between 50 and 100 : ', randint(50 , 100))\n",
    "print('get a random item :', choice(['win', 'lose', 'draw']))\n",
    "\n",
    "names = ['John', 'Jane', 'Jack', 'Jill', 'Joe']\n",
    "shuffle(names)\n",
    "print('shuffle a list :', names)"
   ]
  },
  {
   "cell_type": "code",
   "execution_count": null,
   "metadata": {},
   "outputs": [],
   "source": []
  },
  {
   "cell_type": "code",
   "execution_count": null,
   "metadata": {},
   "outputs": [],
   "source": []
  }
 ],
 "metadata": {
  "kernelspec": {
   "display_name": "base",
   "language": "python",
   "name": "python3"
  },
  "language_info": {
   "codemirror_mode": {
    "name": "ipython",
    "version": 3
   },
   "file_extension": ".py",
   "mimetype": "text/x-python",
   "name": "python",
   "nbconvert_exporter": "python",
   "pygments_lexer": "ipython3",
   "version": "3.10.9"
  },
  "orig_nbformat": 4
 },
 "nbformat": 4,
 "nbformat_minor": 2
}
